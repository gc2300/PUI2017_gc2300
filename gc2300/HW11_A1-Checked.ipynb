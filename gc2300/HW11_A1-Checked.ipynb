{
 "cells": [
  {
   "cell_type": "markdown",
   "metadata": {},
   "source": [
    "By gc2300"
   ]
  },
  {
   "cell_type": "code",
   "execution_count": 8,
   "metadata": {},
   "outputs": [
    {
     "name": "stdout",
     "output_type": "stream",
     "text": [
      "Populating the interactive namespace from numpy and matplotlib\n"
     ]
    }
   ],
   "source": [
    "import numpy as np\n",
    "import pandas as pd\n",
    "import matplotlib.pyplot as plt\n",
    "%pylab inline"
   ]
  },
  {
   "cell_type": "code",
   "execution_count": 9,
   "metadata": {
    "collapsed": true
   },
   "outputs": [],
   "source": [
    "import os\n",
    "import zipfile\n",
    "import geopandas as gpd\n",
    "from sklearn.cluster import KMeans, DBSCAN\n",
    "from scipy.cluster.hierarchy import dendrogram, linkage, fcluster"
   ]
  },
  {
   "cell_type": "code",
   "execution_count": 16,
   "metadata": {
    "collapsed": true
   },
   "outputs": [],
   "source": [
    "import io\n",
    "import requests\n",
    "import json"
   ]
  },
  {
   "cell_type": "code",
   "execution_count": 53,
   "metadata": {
    "collapsed": true
   },
   "outputs": [],
   "source": [
    "import zipfile"
   ]
  },
  {
   "cell_type": "code",
   "execution_count": 21,
   "metadata": {},
   "outputs": [
    {
     "data": {
      "text/plain": [
       "'/Users/andrewchen/CUSP/PUI/PUIDATA'"
      ]
     },
     "execution_count": 21,
     "metadata": {},
     "output_type": "execute_result"
    }
   ],
   "source": [
    "os.getenv(\"PUIDATA\")"
   ]
  },
  {
   "cell_type": "markdown",
   "metadata": {},
   "source": [
    "# Census Data"
   ]
  },
  {
   "cell_type": "markdown",
   "metadata": {},
   "source": [
    "!for ((y=94; y<=99; y+=1)); do wget \\\n",
    "https://www2.census.gov/Econ2001_And_Earlier/CBP_CSV//zbp$y\\totals.zip; mv \\\n",
    "zbp$y\\totals.zip $PUIDATA; done\n",
    "\n",
    "!for ((y=0; y<=1; y+=1)); do wget \\\n",
    "https://www2.census.gov/Econ2001_And_Earlier/CBP_CSV//zbp0$y\\totals.zip; mv \\\n",
    "zbp0$y\\totals.zip $PUIDATA; done\n",
    "\n",
    "!for ((y=2; y<=9; y+=1)); do wget \\\n",
    "https://www2.census.gov/econ200$y\\/CBP_CSV/zbp0$y\\totals.zip; mv \\\n",
    "zbp0$y\\totals.zip $PUIDATA; done\n",
    "\n",
    "!for ((y=10; y<=14; y+=1)); do wget \\\n",
    "https://www2.census.gov/econ20$y\\/CBP_CSV/zbp$y\\totals.zip; mv \\\n",
    "zbp$y\\totals.zip $PUIDATA; done"
   ]
  },
  {
   "cell_type": "markdown",
   "metadata": {},
   "source": [
    "# Shapefile"
   ]
  },
  {
   "cell_type": "code",
   "execution_count": 27,
   "metadata": {},
   "outputs": [
    {
     "name": "stdout",
     "output_type": "stream",
     "text": [
      "--2017-12-14 16:08:32--  https://data.cityofnewyork.us/download/i8iw-xf4u/application%2Fzip\n",
      "Resolving data.cityofnewyork.us... 52.206.68.26\n",
      "Connecting to data.cityofnewyork.us|52.206.68.26|:443... connected.\n",
      "HTTP request sent, awaiting response... 302 Found\n",
      "Location: https://data.cityofnewyork.us/api/views/i8iw-xf4u/files/YObIR0MbpUVA0EpQzZSq5x55FzKGM2ejSeahdvjqR20?filename=ZIP_CODE_040114.zip [following]\n",
      "--2017-12-14 16:08:34--  https://data.cityofnewyork.us/api/views/i8iw-xf4u/files/YObIR0MbpUVA0EpQzZSq5x55FzKGM2ejSeahdvjqR20?filename=ZIP_CODE_040114.zip\n",
      "Reusing existing connection to data.cityofnewyork.us:443.\n",
      "HTTP request sent, awaiting response... 200 OK\n",
      "Length: 1514401 (1.4M) [application/octet-stream]\n",
      "Saving to: 'application%2Fzip'\n",
      "\n",
      "application%2Fzip   100%[===================>]   1.44M  1.22MB/s    in 1.2s    \n",
      "\n",
      "2017-12-14 16:08:35 (1.22 MB/s) - 'application%2Fzip' saved [1514401/1514401]\n",
      "\n"
     ]
    }
   ],
   "source": [
    "!wget https://data.cityofnewyork.us/download/i8iw-xf4u/application%2Fzip"
   ]
  },
  {
   "cell_type": "markdown",
   "metadata": {},
   "source": [
    "mv application%2Fzip $PUIDATA"
   ]
  },
  {
   "cell_type": "code",
   "execution_count": 50,
   "metadata": {},
   "outputs": [
    {
     "data": {
      "text/html": [
       "<div>\n",
       "<style>\n",
       "    .dataframe thead tr:only-child th {\n",
       "        text-align: right;\n",
       "    }\n",
       "\n",
       "    .dataframe thead th {\n",
       "        text-align: left;\n",
       "    }\n",
       "\n",
       "    .dataframe tbody tr th {\n",
       "        vertical-align: top;\n",
       "    }\n",
       "</style>\n",
       "<table border=\"1\" class=\"dataframe\">\n",
       "  <thead>\n",
       "    <tr style=\"text-align: right;\">\n",
       "      <th></th>\n",
       "      <th>ZIPCODE</th>\n",
       "      <th>BLDGZIP</th>\n",
       "      <th>PO_NAME</th>\n",
       "      <th>POPULATION</th>\n",
       "      <th>AREA</th>\n",
       "      <th>STATE</th>\n",
       "      <th>COUNTY</th>\n",
       "      <th>ST_FIPS</th>\n",
       "      <th>CTY_FIPS</th>\n",
       "      <th>URL</th>\n",
       "      <th>SHAPE_AREA</th>\n",
       "      <th>SHAPE_LEN</th>\n",
       "      <th>geometry</th>\n",
       "    </tr>\n",
       "  </thead>\n",
       "  <tbody>\n",
       "    <tr>\n",
       "      <th>0</th>\n",
       "      <td>11436</td>\n",
       "      <td>0</td>\n",
       "      <td>Jamaica</td>\n",
       "      <td>18681.0</td>\n",
       "      <td>2.269930e+07</td>\n",
       "      <td>NY</td>\n",
       "      <td>Queens</td>\n",
       "      <td>36</td>\n",
       "      <td>081</td>\n",
       "      <td>http://www.usps.com/</td>\n",
       "      <td>0.0</td>\n",
       "      <td>0.0</td>\n",
       "      <td>POLYGON ((1038098.251871482 188138.3800067157,...</td>\n",
       "    </tr>\n",
       "    <tr>\n",
       "      <th>1</th>\n",
       "      <td>11213</td>\n",
       "      <td>0</td>\n",
       "      <td>Brooklyn</td>\n",
       "      <td>62426.0</td>\n",
       "      <td>2.963100e+07</td>\n",
       "      <td>NY</td>\n",
       "      <td>Kings</td>\n",
       "      <td>36</td>\n",
       "      <td>047</td>\n",
       "      <td>http://www.usps.com/</td>\n",
       "      <td>0.0</td>\n",
       "      <td>0.0</td>\n",
       "      <td>POLYGON ((1001613.712964058 186926.4395172149,...</td>\n",
       "    </tr>\n",
       "    <tr>\n",
       "      <th>2</th>\n",
       "      <td>11212</td>\n",
       "      <td>0</td>\n",
       "      <td>Brooklyn</td>\n",
       "      <td>83866.0</td>\n",
       "      <td>4.197210e+07</td>\n",
       "      <td>NY</td>\n",
       "      <td>Kings</td>\n",
       "      <td>36</td>\n",
       "      <td>047</td>\n",
       "      <td>http://www.usps.com/</td>\n",
       "      <td>0.0</td>\n",
       "      <td>0.0</td>\n",
       "      <td>POLYGON ((1011174.275535807 183696.33770971, 1...</td>\n",
       "    </tr>\n",
       "    <tr>\n",
       "      <th>3</th>\n",
       "      <td>11225</td>\n",
       "      <td>0</td>\n",
       "      <td>Brooklyn</td>\n",
       "      <td>56527.0</td>\n",
       "      <td>2.369863e+07</td>\n",
       "      <td>NY</td>\n",
       "      <td>Kings</td>\n",
       "      <td>36</td>\n",
       "      <td>047</td>\n",
       "      <td>http://www.usps.com/</td>\n",
       "      <td>0.0</td>\n",
       "      <td>0.0</td>\n",
       "      <td>POLYGON ((995908.3654508889 183617.6128015518,...</td>\n",
       "    </tr>\n",
       "    <tr>\n",
       "      <th>4</th>\n",
       "      <td>11218</td>\n",
       "      <td>0</td>\n",
       "      <td>Brooklyn</td>\n",
       "      <td>72280.0</td>\n",
       "      <td>3.686880e+07</td>\n",
       "      <td>NY</td>\n",
       "      <td>Kings</td>\n",
       "      <td>36</td>\n",
       "      <td>047</td>\n",
       "      <td>http://www.usps.com/</td>\n",
       "      <td>0.0</td>\n",
       "      <td>0.0</td>\n",
       "      <td>POLYGON ((991997.1134308875 176307.4958601296,...</td>\n",
       "    </tr>\n",
       "  </tbody>\n",
       "</table>\n",
       "</div>"
      ],
      "text/plain": [
       "  ZIPCODE BLDGZIP   PO_NAME  POPULATION          AREA STATE  COUNTY ST_FIPS  \\\n",
       "0   11436       0   Jamaica     18681.0  2.269930e+07    NY  Queens      36   \n",
       "1   11213       0  Brooklyn     62426.0  2.963100e+07    NY   Kings      36   \n",
       "2   11212       0  Brooklyn     83866.0  4.197210e+07    NY   Kings      36   \n",
       "3   11225       0  Brooklyn     56527.0  2.369863e+07    NY   Kings      36   \n",
       "4   11218       0  Brooklyn     72280.0  3.686880e+07    NY   Kings      36   \n",
       "\n",
       "  CTY_FIPS                   URL  SHAPE_AREA  SHAPE_LEN  \\\n",
       "0      081  http://www.usps.com/         0.0        0.0   \n",
       "1      047  http://www.usps.com/         0.0        0.0   \n",
       "2      047  http://www.usps.com/         0.0        0.0   \n",
       "3      047  http://www.usps.com/         0.0        0.0   \n",
       "4      047  http://www.usps.com/         0.0        0.0   \n",
       "\n",
       "                                            geometry  \n",
       "0  POLYGON ((1038098.251871482 188138.3800067157,...  \n",
       "1  POLYGON ((1001613.712964058 186926.4395172149,...  \n",
       "2  POLYGON ((1011174.275535807 183696.33770971, 1...  \n",
       "3  POLYGON ((995908.3654508889 183617.6128015518,...  \n",
       "4  POLYGON ((991997.1134308875 176307.4958601296,...  "
      ]
     },
     "execution_count": 50,
     "metadata": {},
     "output_type": "execute_result"
    }
   ],
   "source": [
    "import pandas as pd\n",
    "import zipfile \n",
    "puidata = os.getenv(\"PUIDATA\")\n",
    "os.system(\"unzip \" + puidata + \"/application%2Fzip -d \" + os.getenv(\"PUIDATA\") + \"/zipcode\")\n",
    "ny = gpd.read_file(puidata + \"/zipcode\" + \"/ZIP_CODE_040114.shp\")\n",
    "ny.head()"
   ]
  },
  {
   "cell_type": "code",
   "execution_count": 52,
   "metadata": {},
   "outputs": [
    {
     "data": {
      "text/plain": [
       "(263, 13)"
      ]
     },
     "execution_count": 52,
     "metadata": {},
     "output_type": "execute_result"
    }
   ],
   "source": [
    "ny.shape"
   ]
  },
  {
   "cell_type": "markdown",
   "metadata": {},
   "source": [
    "# Unzip files"
   ]
  },
  {
   "cell_type": "markdown",
   "metadata": {},
   "source": [
    "form a list of file names"
   ]
  },
  {
   "cell_type": "code",
   "execution_count": 325,
   "metadata": {},
   "outputs": [],
   "source": [
    "year = range(1994,2015,1)\n",
    "year = map(str, year)"
   ]
  },
  {
   "cell_type": "code",
   "execution_count": 326,
   "metadata": {},
   "outputs": [],
   "source": [
    "year = map(lambda x:x[2:4], year)"
   ]
  },
  {
   "cell_type": "code",
   "execution_count": 327,
   "metadata": {
    "collapsed": true
   },
   "outputs": [],
   "source": [
    "ziplist = ny.ZIPCODE.astype(int)"
   ]
  },
  {
   "cell_type": "code",
   "execution_count": 328,
   "metadata": {},
   "outputs": [],
   "source": [
    "est = pd.DataFrame(ziplist)\n",
    "est.columns = ['ZIP']"
   ]
  },
  {
   "cell_type": "code",
   "execution_count": 329,
   "metadata": {},
   "outputs": [],
   "source": [
    "for i in year:\n",
    "    fname = puidata + '/zbp' + i + 'totals.zip'\n",
    "    df = pd.read_csv(fname)\n",
    "    df.columns = map(str.upper, df.columns)\n",
    "    transition = df.loc[:,['ZIP','EST']]\n",
    "    transition.columns = ['ZIP','EST' + i ]\n",
    "    est = est.merge(temp,on='ZIP',how='left')"
   ]
  },
  {
   "cell_type": "code",
   "execution_count": 330,
   "metadata": {},
   "outputs": [
    {
     "data": {
      "text/html": [
       "<div>\n",
       "<style>\n",
       "    .dataframe thead tr:only-child th {\n",
       "        text-align: right;\n",
       "    }\n",
       "\n",
       "    .dataframe thead th {\n",
       "        text-align: left;\n",
       "    }\n",
       "\n",
       "    .dataframe tbody tr th {\n",
       "        vertical-align: top;\n",
       "    }\n",
       "</style>\n",
       "<table border=\"1\" class=\"dataframe\">\n",
       "  <thead>\n",
       "    <tr style=\"text-align: right;\">\n",
       "      <th></th>\n",
       "      <th>ZIP</th>\n",
       "      <th>EST14_x</th>\n",
       "      <th>EST14_y</th>\n",
       "      <th>EST14_x</th>\n",
       "      <th>EST14_y</th>\n",
       "      <th>EST14_x</th>\n",
       "      <th>EST14_y</th>\n",
       "      <th>EST14_x</th>\n",
       "      <th>EST14_y</th>\n",
       "      <th>EST14_x</th>\n",
       "      <th>...</th>\n",
       "      <th>EST14_y</th>\n",
       "      <th>EST14_x</th>\n",
       "      <th>EST14_y</th>\n",
       "      <th>EST14_x</th>\n",
       "      <th>EST14_y</th>\n",
       "      <th>EST14_x</th>\n",
       "      <th>EST14_y</th>\n",
       "      <th>EST14_x</th>\n",
       "      <th>EST14_y</th>\n",
       "      <th>EST14</th>\n",
       "    </tr>\n",
       "  </thead>\n",
       "  <tbody>\n",
       "    <tr>\n",
       "      <th>0</th>\n",
       "      <td>11436</td>\n",
       "      <td>109.0</td>\n",
       "      <td>109.0</td>\n",
       "      <td>109.0</td>\n",
       "      <td>109.0</td>\n",
       "      <td>109.0</td>\n",
       "      <td>109.0</td>\n",
       "      <td>109.0</td>\n",
       "      <td>109.0</td>\n",
       "      <td>109.0</td>\n",
       "      <td>...</td>\n",
       "      <td>109.0</td>\n",
       "      <td>109.0</td>\n",
       "      <td>109.0</td>\n",
       "      <td>109.0</td>\n",
       "      <td>109.0</td>\n",
       "      <td>109.0</td>\n",
       "      <td>109.0</td>\n",
       "      <td>109.0</td>\n",
       "      <td>109.0</td>\n",
       "      <td>109.0</td>\n",
       "    </tr>\n",
       "    <tr>\n",
       "      <th>1</th>\n",
       "      <td>11213</td>\n",
       "      <td>772.0</td>\n",
       "      <td>772.0</td>\n",
       "      <td>772.0</td>\n",
       "      <td>772.0</td>\n",
       "      <td>772.0</td>\n",
       "      <td>772.0</td>\n",
       "      <td>772.0</td>\n",
       "      <td>772.0</td>\n",
       "      <td>772.0</td>\n",
       "      <td>...</td>\n",
       "      <td>772.0</td>\n",
       "      <td>772.0</td>\n",
       "      <td>772.0</td>\n",
       "      <td>772.0</td>\n",
       "      <td>772.0</td>\n",
       "      <td>772.0</td>\n",
       "      <td>772.0</td>\n",
       "      <td>772.0</td>\n",
       "      <td>772.0</td>\n",
       "      <td>772.0</td>\n",
       "    </tr>\n",
       "    <tr>\n",
       "      <th>2</th>\n",
       "      <td>11212</td>\n",
       "      <td>752.0</td>\n",
       "      <td>752.0</td>\n",
       "      <td>752.0</td>\n",
       "      <td>752.0</td>\n",
       "      <td>752.0</td>\n",
       "      <td>752.0</td>\n",
       "      <td>752.0</td>\n",
       "      <td>752.0</td>\n",
       "      <td>752.0</td>\n",
       "      <td>...</td>\n",
       "      <td>752.0</td>\n",
       "      <td>752.0</td>\n",
       "      <td>752.0</td>\n",
       "      <td>752.0</td>\n",
       "      <td>752.0</td>\n",
       "      <td>752.0</td>\n",
       "      <td>752.0</td>\n",
       "      <td>752.0</td>\n",
       "      <td>752.0</td>\n",
       "      <td>752.0</td>\n",
       "    </tr>\n",
       "    <tr>\n",
       "      <th>3</th>\n",
       "      <td>11225</td>\n",
       "      <td>696.0</td>\n",
       "      <td>696.0</td>\n",
       "      <td>696.0</td>\n",
       "      <td>696.0</td>\n",
       "      <td>696.0</td>\n",
       "      <td>696.0</td>\n",
       "      <td>696.0</td>\n",
       "      <td>696.0</td>\n",
       "      <td>696.0</td>\n",
       "      <td>...</td>\n",
       "      <td>696.0</td>\n",
       "      <td>696.0</td>\n",
       "      <td>696.0</td>\n",
       "      <td>696.0</td>\n",
       "      <td>696.0</td>\n",
       "      <td>696.0</td>\n",
       "      <td>696.0</td>\n",
       "      <td>696.0</td>\n",
       "      <td>696.0</td>\n",
       "      <td>696.0</td>\n",
       "    </tr>\n",
       "    <tr>\n",
       "      <th>4</th>\n",
       "      <td>11218</td>\n",
       "      <td>1736.0</td>\n",
       "      <td>1736.0</td>\n",
       "      <td>1736.0</td>\n",
       "      <td>1736.0</td>\n",
       "      <td>1736.0</td>\n",
       "      <td>1736.0</td>\n",
       "      <td>1736.0</td>\n",
       "      <td>1736.0</td>\n",
       "      <td>1736.0</td>\n",
       "      <td>...</td>\n",
       "      <td>1736.0</td>\n",
       "      <td>1736.0</td>\n",
       "      <td>1736.0</td>\n",
       "      <td>1736.0</td>\n",
       "      <td>1736.0</td>\n",
       "      <td>1736.0</td>\n",
       "      <td>1736.0</td>\n",
       "      <td>1736.0</td>\n",
       "      <td>1736.0</td>\n",
       "      <td>1736.0</td>\n",
       "    </tr>\n",
       "  </tbody>\n",
       "</table>\n",
       "<p>5 rows × 22 columns</p>\n",
       "</div>"
      ],
      "text/plain": [
       "     ZIP  EST14_x  EST14_y  EST14_x  EST14_y  EST14_x  EST14_y  EST14_x  \\\n",
       "0  11436    109.0    109.0    109.0    109.0    109.0    109.0    109.0   \n",
       "1  11213    772.0    772.0    772.0    772.0    772.0    772.0    772.0   \n",
       "2  11212    752.0    752.0    752.0    752.0    752.0    752.0    752.0   \n",
       "3  11225    696.0    696.0    696.0    696.0    696.0    696.0    696.0   \n",
       "4  11218   1736.0   1736.0   1736.0   1736.0   1736.0   1736.0   1736.0   \n",
       "\n",
       "   EST14_y  EST14_x   ...    EST14_y  EST14_x  EST14_y  EST14_x  EST14_y  \\\n",
       "0    109.0    109.0   ...      109.0    109.0    109.0    109.0    109.0   \n",
       "1    772.0    772.0   ...      772.0    772.0    772.0    772.0    772.0   \n",
       "2    752.0    752.0   ...      752.0    752.0    752.0    752.0    752.0   \n",
       "3    696.0    696.0   ...      696.0    696.0    696.0    696.0    696.0   \n",
       "4   1736.0   1736.0   ...     1736.0   1736.0   1736.0   1736.0   1736.0   \n",
       "\n",
       "   EST14_x  EST14_y  EST14_x  EST14_y   EST14  \n",
       "0    109.0    109.0    109.0    109.0   109.0  \n",
       "1    772.0    772.0    772.0    772.0   772.0  \n",
       "2    752.0    752.0    752.0    752.0   752.0  \n",
       "3    696.0    696.0    696.0    696.0   696.0  \n",
       "4   1736.0   1736.0   1736.0   1736.0  1736.0  \n",
       "\n",
       "[5 rows x 22 columns]"
      ]
     },
     "execution_count": 330,
     "metadata": {},
     "output_type": "execute_result"
    }
   ],
   "source": [
    "est.head()"
   ]
  },
  {
   "cell_type": "code",
   "execution_count": 331,
   "metadata": {},
   "outputs": [
    {
     "data": {
      "text/plain": [
       "(263, 22)"
      ]
     },
     "execution_count": 331,
     "metadata": {},
     "output_type": "execute_result"
    }
   ],
   "source": [
    "est.shape"
   ]
  },
  {
   "cell_type": "code",
   "execution_count": 332,
   "metadata": {},
   "outputs": [],
   "source": [
    "est = est.dropna()"
   ]
  },
  {
   "cell_type": "markdown",
   "metadata": {},
   "source": [
    "# 2.cluster the NUMBER OF ESTABLISHMENTS time series with K-means"
   ]
  },
  {
   "cell_type": "markdown",
   "metadata": {},
   "source": [
    "From Applied Data Science Class' lab:"
   ]
  },
  {
   "cell_type": "code",
   "execution_count": 333,
   "metadata": {
    "collapsed": true
   },
   "outputs": [],
   "source": [
    "from sklearn.cluster import KMeans\n",
    "from sklearn.cluster import AgglomerativeClustering\n",
    "from sklearn.metrics import silhouette_score"
   ]
  },
  {
   "cell_type": "code",
   "execution_count": 334,
   "metadata": {},
   "outputs": [
    {
     "name": "stdout",
     "output_type": "stream",
     "text": [
      "For n_clusters = 2, the average silhouette_score is : 0.7503260263413386\n",
      "For n_clusters = 3, the average silhouette_score is : 0.6274164082072634\n",
      "For n_clusters = 4, the average silhouette_score is : 0.5409261667379652\n",
      "For n_clusters = 5, the average silhouette_score is : 0.5516794847772424\n",
      "For n_clusters = 6, the average silhouette_score is : 0.5506935811180247\n",
      "For n_clusters = 7, the average silhouette_score is : 0.5092436360056777\n",
      "For n_clusters = 8, the average silhouette_score is : 0.49531771974873273\n",
      "For n_clusters = 9, the average silhouette_score is : 0.48483630460033283\n"
     ]
    }
   ],
   "source": [
    "for n in range(2,10):\n",
    "    KM = KMeans(n_clusters=n, random_state=123)\n",
    "    res = KM.fit(est)\n",
    "    silhouette_avg = silhouette_score(est, res.labels_)\n",
    "    print(\"For n_clusters = {}, the average silhouette_score is : {}\".format(n, silhouette_avg))\n"
   ]
  },
  {
   "cell_type": "code",
   "execution_count": 335,
   "metadata": {},
   "outputs": [
    {
     "data": {
      "text/plain": [
       "0.17546853749306157"
      ]
     },
     "execution_count": 335,
     "metadata": {},
     "output_type": "execute_result"
    }
   ],
   "source": [
    "1 - 0.8245314625069384"
   ]
  },
  {
   "cell_type": "code",
   "execution_count": 336,
   "metadata": {},
   "outputs": [
    {
     "data": {
      "text/plain": [
       "0.18856240333344665"
      ]
     },
     "execution_count": 336,
     "metadata": {},
     "output_type": "execute_result"
    }
   ],
   "source": [
    "0.8245314625069384 - 0.6359690591734918"
   ]
  },
  {
   "cell_type": "markdown",
   "metadata": {},
   "source": [
    "# The silhouette score decreases the most when the number of clusters changes from 2 to 3. Thus, 3 clusters can be the best for clustering."
   ]
  },
  {
   "cell_type": "code",
   "execution_count": 337,
   "metadata": {},
   "outputs": [],
   "source": [
    "n = [2,3,4]\n",
    "for i in n:\n",
    "    KM = KMeans(n_clusters=i,random_state=123)\n",
    "    res = KM.fit(est)\n",
    "    est['Kmeans' + str(i)] = res.labels_"
   ]
  },
  {
   "cell_type": "code",
   "execution_count": 338,
   "metadata": {},
   "outputs": [
    {
     "data": {
      "text/html": [
       "<div>\n",
       "<style>\n",
       "    .dataframe thead tr:only-child th {\n",
       "        text-align: right;\n",
       "    }\n",
       "\n",
       "    .dataframe thead th {\n",
       "        text-align: left;\n",
       "    }\n",
       "\n",
       "    .dataframe tbody tr th {\n",
       "        vertical-align: top;\n",
       "    }\n",
       "</style>\n",
       "<table border=\"1\" class=\"dataframe\">\n",
       "  <thead>\n",
       "    <tr style=\"text-align: right;\">\n",
       "      <th></th>\n",
       "      <th>ZIP</th>\n",
       "      <th>EST14_x</th>\n",
       "      <th>EST14_y</th>\n",
       "      <th>EST14_x</th>\n",
       "      <th>EST14_y</th>\n",
       "      <th>EST14_x</th>\n",
       "      <th>EST14_y</th>\n",
       "      <th>EST14_x</th>\n",
       "      <th>EST14_y</th>\n",
       "      <th>EST14_x</th>\n",
       "      <th>...</th>\n",
       "      <th>EST14_x</th>\n",
       "      <th>EST14_y</th>\n",
       "      <th>EST14_x</th>\n",
       "      <th>EST14_y</th>\n",
       "      <th>EST14_x</th>\n",
       "      <th>EST14_y</th>\n",
       "      <th>EST14</th>\n",
       "      <th>Kmeans2</th>\n",
       "      <th>Kmeans3</th>\n",
       "      <th>Kmeans4</th>\n",
       "    </tr>\n",
       "  </thead>\n",
       "  <tbody>\n",
       "    <tr>\n",
       "      <th>0</th>\n",
       "      <td>11436</td>\n",
       "      <td>109.0</td>\n",
       "      <td>109.0</td>\n",
       "      <td>109.0</td>\n",
       "      <td>109.0</td>\n",
       "      <td>109.0</td>\n",
       "      <td>109.0</td>\n",
       "      <td>109.0</td>\n",
       "      <td>109.0</td>\n",
       "      <td>109.0</td>\n",
       "      <td>...</td>\n",
       "      <td>109.0</td>\n",
       "      <td>109.0</td>\n",
       "      <td>109.0</td>\n",
       "      <td>109.0</td>\n",
       "      <td>109.0</td>\n",
       "      <td>109.0</td>\n",
       "      <td>109.0</td>\n",
       "      <td>0</td>\n",
       "      <td>0</td>\n",
       "      <td>0</td>\n",
       "    </tr>\n",
       "    <tr>\n",
       "      <th>1</th>\n",
       "      <td>11213</td>\n",
       "      <td>772.0</td>\n",
       "      <td>772.0</td>\n",
       "      <td>772.0</td>\n",
       "      <td>772.0</td>\n",
       "      <td>772.0</td>\n",
       "      <td>772.0</td>\n",
       "      <td>772.0</td>\n",
       "      <td>772.0</td>\n",
       "      <td>772.0</td>\n",
       "      <td>...</td>\n",
       "      <td>772.0</td>\n",
       "      <td>772.0</td>\n",
       "      <td>772.0</td>\n",
       "      <td>772.0</td>\n",
       "      <td>772.0</td>\n",
       "      <td>772.0</td>\n",
       "      <td>772.0</td>\n",
       "      <td>0</td>\n",
       "      <td>0</td>\n",
       "      <td>2</td>\n",
       "    </tr>\n",
       "    <tr>\n",
       "      <th>2</th>\n",
       "      <td>11212</td>\n",
       "      <td>752.0</td>\n",
       "      <td>752.0</td>\n",
       "      <td>752.0</td>\n",
       "      <td>752.0</td>\n",
       "      <td>752.0</td>\n",
       "      <td>752.0</td>\n",
       "      <td>752.0</td>\n",
       "      <td>752.0</td>\n",
       "      <td>752.0</td>\n",
       "      <td>...</td>\n",
       "      <td>752.0</td>\n",
       "      <td>752.0</td>\n",
       "      <td>752.0</td>\n",
       "      <td>752.0</td>\n",
       "      <td>752.0</td>\n",
       "      <td>752.0</td>\n",
       "      <td>752.0</td>\n",
       "      <td>0</td>\n",
       "      <td>0</td>\n",
       "      <td>2</td>\n",
       "    </tr>\n",
       "    <tr>\n",
       "      <th>3</th>\n",
       "      <td>11225</td>\n",
       "      <td>696.0</td>\n",
       "      <td>696.0</td>\n",
       "      <td>696.0</td>\n",
       "      <td>696.0</td>\n",
       "      <td>696.0</td>\n",
       "      <td>696.0</td>\n",
       "      <td>696.0</td>\n",
       "      <td>696.0</td>\n",
       "      <td>696.0</td>\n",
       "      <td>...</td>\n",
       "      <td>696.0</td>\n",
       "      <td>696.0</td>\n",
       "      <td>696.0</td>\n",
       "      <td>696.0</td>\n",
       "      <td>696.0</td>\n",
       "      <td>696.0</td>\n",
       "      <td>696.0</td>\n",
       "      <td>0</td>\n",
       "      <td>0</td>\n",
       "      <td>2</td>\n",
       "    </tr>\n",
       "    <tr>\n",
       "      <th>4</th>\n",
       "      <td>11218</td>\n",
       "      <td>1736.0</td>\n",
       "      <td>1736.0</td>\n",
       "      <td>1736.0</td>\n",
       "      <td>1736.0</td>\n",
       "      <td>1736.0</td>\n",
       "      <td>1736.0</td>\n",
       "      <td>1736.0</td>\n",
       "      <td>1736.0</td>\n",
       "      <td>1736.0</td>\n",
       "      <td>...</td>\n",
       "      <td>1736.0</td>\n",
       "      <td>1736.0</td>\n",
       "      <td>1736.0</td>\n",
       "      <td>1736.0</td>\n",
       "      <td>1736.0</td>\n",
       "      <td>1736.0</td>\n",
       "      <td>1736.0</td>\n",
       "      <td>0</td>\n",
       "      <td>2</td>\n",
       "      <td>2</td>\n",
       "    </tr>\n",
       "  </tbody>\n",
       "</table>\n",
       "<p>5 rows × 25 columns</p>\n",
       "</div>"
      ],
      "text/plain": [
       "     ZIP  EST14_x  EST14_y  EST14_x  EST14_y  EST14_x  EST14_y  EST14_x  \\\n",
       "0  11436    109.0    109.0    109.0    109.0    109.0    109.0    109.0   \n",
       "1  11213    772.0    772.0    772.0    772.0    772.0    772.0    772.0   \n",
       "2  11212    752.0    752.0    752.0    752.0    752.0    752.0    752.0   \n",
       "3  11225    696.0    696.0    696.0    696.0    696.0    696.0    696.0   \n",
       "4  11218   1736.0   1736.0   1736.0   1736.0   1736.0   1736.0   1736.0   \n",
       "\n",
       "   EST14_y  EST14_x   ...     EST14_x  EST14_y  EST14_x  EST14_y  EST14_x  \\\n",
       "0    109.0    109.0   ...       109.0    109.0    109.0    109.0    109.0   \n",
       "1    772.0    772.0   ...       772.0    772.0    772.0    772.0    772.0   \n",
       "2    752.0    752.0   ...       752.0    752.0    752.0    752.0    752.0   \n",
       "3    696.0    696.0   ...       696.0    696.0    696.0    696.0    696.0   \n",
       "4   1736.0   1736.0   ...      1736.0   1736.0   1736.0   1736.0   1736.0   \n",
       "\n",
       "   EST14_y   EST14  Kmeans2  Kmeans3  Kmeans4  \n",
       "0    109.0   109.0        0        0        0  \n",
       "1    772.0   772.0        0        0        2  \n",
       "2    752.0   752.0        0        0        2  \n",
       "3    696.0   696.0        0        0        2  \n",
       "4   1736.0  1736.0        0        2        2  \n",
       "\n",
       "[5 rows x 25 columns]"
      ]
     },
     "execution_count": 338,
     "metadata": {},
     "output_type": "execute_result"
    }
   ],
   "source": [
    "est.head()"
   ]
  },
  {
   "cell_type": "markdown",
   "metadata": {},
   "source": [
    "# 3. plot the cluster centers"
   ]
  },
  {
   "cell_type": "markdown",
   "metadata": {
    "collapsed": true
   },
   "source": [
    "## ASH Score 50. For doing only half the assignment"
   ]
  },
  {
   "cell_type": "code",
   "execution_count": null,
   "metadata": {},
   "outputs": [],
   "source": []
  }
 ],
 "metadata": {
  "kernelspec": {
   "display_name": "Python 3",
   "language": "python",
   "name": "python3"
  },
  "language_info": {
   "codemirror_mode": {
    "name": "ipython",
    "version": 3
   },
   "file_extension": ".py",
   "mimetype": "text/x-python",
   "name": "python",
   "nbconvert_exporter": "python",
   "pygments_lexer": "ipython3",
   "version": "3.6.3"
  }
 },
 "nbformat": 4,
 "nbformat_minor": 2
}

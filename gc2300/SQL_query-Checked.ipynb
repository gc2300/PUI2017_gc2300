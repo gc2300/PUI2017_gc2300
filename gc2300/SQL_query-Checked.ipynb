{
 "cells": [
  {
   "cell_type": "markdown",
   "metadata": {},
   "source": [
    "by gc2300"
   ]
  },
  {
   "cell_type": "code",
   "execution_count": 1,
   "metadata": {},
   "outputs": [
    {
     "ename": "SyntaxError",
     "evalue": "invalid syntax (<ipython-input-1-5b32c6916989>, line 23)",
     "output_type": "error",
     "traceback": [
      "\u001b[0;36m  File \u001b[0;32m\"<ipython-input-1-5b32c6916989>\"\u001b[0;36m, line \u001b[0;32m23\u001b[0m\n\u001b[0;31m    except urllib2.HTTPError, e:\u001b[0m\n\u001b[0m                            ^\u001b[0m\n\u001b[0;31mSyntaxError\u001b[0m\u001b[0;31m:\u001b[0m invalid syntax\n"
     ]
    }
   ],
   "source": [
    "SQL_SOURCE = 'https://gc2300.carto.com/api/v2/sql?q='\n",
    "\n",
    "import urllib2\n",
    "import urllib\n",
    "import StringIO\n",
    "import ast\n",
    "import pandas as pd\n",
    "\n",
    "def queryCartoDB(query, format='CSV', source=SQL_SOURCE):\n",
    "    '''queries carto datasets from a given carto account\n",
    "    Arguments: \n",
    "    query - string: a valid sql query string\n",
    "    format - outlut format  OPTIONAL (default CSV)\n",
    "    source - a valid sql api endpoint OPTIONAL (default carto fb55 account)\n",
    "    Returns:\n",
    "    the return of the sql query AS A STRING\n",
    "    NOTES:\n",
    "    designed for the carto API, tested only with CSV return format'''\n",
    "    \n",
    "    data = urllib.urlencode({'format': format, 'q': query})\n",
    "    try:\n",
    "        response = urllib2.urlopen(source, data)\n",
    "    except urllib2.HTTPError, e:\n",
    "        raise ValueError('\\n'.join(ast.literal_eval(e.readline())['error']))\n",
    "    except Exception:\n",
    "        raise\n",
    "    return response.read()"
   ]
  },
  {
   "cell_type": "code",
   "execution_count": null,
   "metadata": {},
   "outputs": [],
   "source": [
    "test = '''\n",
    "SELECT *\n",
    "FROM citibike\n",
    "'''"
   ]
  },
  {
   "cell_type": "code",
   "execution_count": null,
   "metadata": {
    "scrolled": false
   },
   "outputs": [],
   "source": [
    "pd.read_csv(StringIO.StringIO(queryCartoDB(test)), sep=',')"
   ]
  },
  {
   "cell_type": "code",
   "execution_count": null,
   "metadata": {},
   "outputs": [],
   "source": [
    "pd.read_csv(StringIO.StringIO(queryCartoDB(test)), sep=',').columns"
   ]
  },
  {
   "cell_type": "markdown",
   "metadata": {},
   "source": [
    "# Task 1"
   ]
  },
  {
   "cell_type": "markdown",
   "metadata": {},
   "source": [
    "# Sort data by station_id\n",
    "\n",
    "Only checking trips with duration <= 3 hours "
   ]
  },
  {
   "cell_type": "code",
   "execution_count": null,
   "metadata": {},
   "outputs": [],
   "source": [
    "q1 = '''\n",
    "SELECT * FROM citibike\n",
    "WHERE tripduration <= 3600*3\n",
    "ORDER BY start_station_id\n",
    "'''\n",
    "pd.read_csv(StringIO.StringIO(queryCartoDB(q1)), sep=',')"
   ]
  },
  {
   "cell_type": "markdown",
   "metadata": {},
   "source": [
    "sort data by trip duration\n",
    "\n",
    "Only checking trips with duration <= 3 hours "
   ]
  },
  {
   "cell_type": "code",
   "execution_count": null,
   "metadata": {},
   "outputs": [],
   "source": [
    "q2 = '''\n",
    "SELECT * FROM citibike\n",
    "WHERE tripduration <= 3600*3\n",
    "\n",
    "ORDER BY tripduration\n",
    "'''\n",
    "\n",
    "pd.read_csv(StringIO.StringIO(queryCartoDB(q2)), sep=',')"
   ]
  },
  {
   "cell_type": "markdown",
   "metadata": {},
   "source": [
    "# Only show the top 10 records"
   ]
  },
  {
   "cell_type": "code",
   "execution_count": null,
   "metadata": {},
   "outputs": [],
   "source": [
    "q3 = '''\n",
    "SELECT * FROM citibike\n",
    "ORDER BY tripduration\n",
    "LIMIT 10\n",
    "'''\n",
    "pd.read_csv(StringIO.StringIO(queryCartoDB(q3)),sep=',')"
   ]
  },
  {
   "cell_type": "markdown",
   "metadata": {},
   "source": [
    "# Only show the last 10 trips"
   ]
  },
  {
   "cell_type": "code",
   "execution_count": null,
   "metadata": {},
   "outputs": [],
   "source": [
    "q4 = '''\n",
    "SELECT * FROM citibike\n",
    "ORDER BY tripduration DESC\n",
    "LIMIT 10\n",
    "'''\n",
    "pd.read_csv(StringIO.StringIO(queryCartoDB(q4)),sep=',')"
   ]
  },
  {
   "cell_type": "markdown",
   "metadata": {},
   "source": [
    "# List all unique start_station_id values"
   ]
  },
  {
   "cell_type": "code",
   "execution_count": null,
   "metadata": {},
   "outputs": [],
   "source": [
    "q5 = '''\n",
    "SELECT DISTINCT start_station_id\n",
    "FROM citibike\n",
    "'''\n",
    "\n",
    "pd.read_csv(StringIO.StringIO(queryCartoDB(q5)),sep=',')"
   ]
  },
  {
   "cell_type": "markdown",
   "metadata": {},
   "source": [
    "# Aggregation functions: \n",
    "\n",
    "Count the number of trips"
   ]
  },
  {
   "cell_type": "code",
   "execution_count": null,
   "metadata": {},
   "outputs": [],
   "source": [
    "q6 = '''\n",
    "SELECT COUNT(tripduration)\n",
    "FROM citibike\n",
    "'''\n",
    "pd.read_csv(StringIO.StringIO(queryCartoDB(q6)))"
   ]
  },
  {
   "cell_type": "markdown",
   "metadata": {},
   "source": [
    "Aggregation functions: \n",
    "\n",
    "Find the average/min/max trip duration"
   ]
  },
  {
   "cell_type": "code",
   "execution_count": null,
   "metadata": {},
   "outputs": [],
   "source": [
    "q7 = '''\n",
    "SELECT AVG(tripduration) as avt, min(tripduration) as mint, max(tripduration) as maxt\n",
    "FROM citibike\n",
    "'''\n",
    "pd.read_csv(StringIO.StringIO(queryCartoDB(q7)))"
   ]
  },
  {
   "cell_type": "markdown",
   "metadata": {},
   "source": [
    "# Task 2"
   ]
  },
  {
   "cell_type": "markdown",
   "metadata": {},
   "source": [
    "# Selecting trips started on Feb-02-2015 only "
   ]
  },
  {
   "cell_type": "code",
   "execution_count": null,
   "metadata": {},
   "outputs": [],
   "source": [
    "q8 ='''\n",
    "SELECT * FROM citibike\n",
    "WHERE starttime >= 'Feb-02-2015'\n",
    "AND   starttime < 'Feb-03-2015'\n",
    "'''\n",
    "pd.read_csv(StringIO.StringIO(queryCartoDB(q8)),sep=',')"
   ]
  },
  {
   "cell_type": "markdown",
   "metadata": {},
   "source": [
    "# Selecting trips started on the weekends\n",
    " -What are average trip duration during weekends?"
   ]
  },
  {
   "cell_type": "code",
   "execution_count": null,
   "metadata": {},
   "outputs": [],
   "source": [
    "q9 = '''\n",
    "SELECT AVG(tripduration) FROM citibike\n",
    "WHERE extract(DOW FROM starttime) IN (0,6)\n",
    "'''\n",
    "pd.read_csv(StringIO.StringIO(queryCartoDB(q9)),sep=',')"
   ]
  },
  {
   "cell_type": "markdown",
   "metadata": {},
   "source": [
    "Selecting trips started on the weekdays\n",
    " -What are average trip duration during weekdays?"
   ]
  },
  {
   "cell_type": "code",
   "execution_count": null,
   "metadata": {},
   "outputs": [],
   "source": [
    "q10 = '''\n",
    "SELECT AVG(tripduration) FROM citibike\n",
    "WHERE extract(DOW FROM starttime) IN (1,2,3,4,5)\n",
    "'''\n",
    "pd.read_csv(StringIO.StringIO(queryCartoDB(q10)),sep=',')"
   ]
  },
  {
   "cell_type": "markdown",
   "metadata": {},
   "source": [
    "# Task 3"
   ]
  },
  {
   "cell_type": "markdown",
   "metadata": {},
   "source": [
    "# Showing the list of start station locations \n",
    "    -in web mercator projection"
   ]
  },
  {
   "cell_type": "code",
   "execution_count": null,
   "metadata": {},
   "outputs": [],
   "source": [
    "q11 = '''\n",
    "SELECT \n",
    "    CDB_TransformToWebmercator(CDB_LatLng(\n",
    "        start_station_latitude,\n",
    "        start_station_longitude\n",
    "        )\n",
    "    ) as the_geom_webmercator,\n",
    "    MIN(cartodb_id) as cartodb_id\n",
    "FROM citibike\n",
    "\n",
    "GROUP BY\n",
    "    start_station_latitude,\n",
    "    start_station_longitude\n",
    "'''\n",
    "pd.read_csv(StringIO.StringIO(queryCartoDB(q11)), sep=',')"
   ]
  },
  {
   "cell_type": "markdown",
   "metadata": {},
   "source": [
    "# Showing the number of trips started per station "
   ]
  },
  {
   "cell_type": "code",
   "execution_count": null,
   "metadata": {},
   "outputs": [],
   "source": [
    "q12 = '''\n",
    "SELECT \n",
    "    start_station_id,\n",
    "    CDB_TransformToWebmercator(CDB_LatLng(\n",
    "        start_station_latitude,\n",
    "        start_station_longitude\n",
    "        )\n",
    "    ) as the_geom_webmercator,\n",
    "    COUNT(tripduration) as numtrips\n",
    "FROM citibike\n",
    "\n",
    "GROUP BY\n",
    "    start_station_id,\n",
    "    start_station_latitude,\n",
    "    start_station_longitude\n",
    "'''\n",
    "pd.read_csv(StringIO.StringIO(queryCartoDB(q12)),sep=',')"
   ]
  },
  {
   "cell_type": "markdown",
   "metadata": {},
   "source": [
    "#  but only for stations within 500m of Time Square"
   ]
  },
  {
   "cell_type": "code",
   "execution_count": null,
   "metadata": {},
   "outputs": [],
   "source": [
    "q13 = '''\n",
    "SELECT \n",
    "    start_station_id,\n",
    "    CDB_TransformToWebmercator(CDB_LatLng(\n",
    "        start_station_latitude,\n",
    "        start_station_longitude\n",
    "        )\n",
    "    ) as the_geom_webmercator,\n",
    "    COUNT(tripduration) as numtrips\n",
    "FROM citibike\n",
    "\n",
    "WHERE\n",
    "    ST_DWithin(CDB_LatLng(\n",
    "        start_station_latitude,\n",
    "        start_station_longitude\n",
    "    )::geography,\n",
    "        CDB_LatLng(40.7577,-73.9857)::geography,\n",
    "        500)\n",
    "\n",
    "GROUP BY\n",
    "    start_station_id,\n",
    "    start_station_latitude,\n",
    "    start_station_longitude\n",
    "'''\n",
    "pd.read_csv(StringIO.StringIO(queryCartoDB(q13)),sep=',')"
   ]
  },
  {
   "cell_type": "markdown",
   "metadata": {},
   "source": [
    "# Task 4"
   ]
  },
  {
   "cell_type": "markdown",
   "metadata": {},
   "source": [
    "Find the station that had the longest average trip duration during\n",
    "weekends and within 500m of TimeSquare!"
   ]
  },
  {
   "cell_type": "code",
   "execution_count": null,
   "metadata": {},
   "outputs": [],
   "source": [
    "q14 = '''\n",
    "SELECT \n",
    "    start_station_id,\n",
    "    CDB_TransformToWebmercator(CDB_LatLng(\n",
    "        start_station_latitude,\n",
    "        start_station_longitude\n",
    "        )\n",
    "    ) as the_geom_webmercator,\n",
    "    COUNT(tripduration) as numtrips,\n",
    "    AVG(tripduration) as avgt\n",
    "FROM citibike\n",
    "\n",
    "WHERE\n",
    "    ST_DWithin(CDB_LatLng(\n",
    "        start_station_latitude,\n",
    "        start_station_longitude\n",
    "    )::geography,\n",
    "        CDB_LatLng(40.7577,-73.9857)::geography,\n",
    "        500)\n",
    "AND\n",
    "        extract (DOW from starttime) IN (0,6)\n",
    "\n",
    "\n",
    "GROUP BY\n",
    "    start_station_id,\n",
    "    start_station_latitude,\n",
    "    start_station_longitude\n",
    "    \n",
    "ORDER BY avgt DESC\n",
    "LIMIT 1\n",
    "'''\n",
    "pd.read_csv(StringIO.StringIO(queryCartoDB(q14)),sep=',')"
   ]
  },
  {
   "cell_type": "markdown",
   "metadata": {},
   "source": [
    "# EXTRA"
   ]
  },
  {
   "cell_type": "markdown",
   "metadata": {},
   "source": [
    " create lines for trips started from stations within 500m of Times\n",
    "Squares and lasted less than 2 hours. The number of trips per each\n",
    "pair of stations are output as attributes of these lines. "
   ]
  },
  {
   "cell_type": "code",
   "execution_count": null,
   "metadata": {},
   "outputs": [],
   "source": [
    "q15 = '''\n",
    "SELECT \n",
    "    start_station_id,\n",
    "    end_station_id,\n",
    "    ST_Makeline(\n",
    "        CDB_TransformToWebmercator(CDB_LatLng(\n",
    "            start_station_latitude,\n",
    "            start_station_longitude\n",
    "            )),\n",
    "        CDB_TransformToWebmercator(CDB_LatLng(\n",
    "            end_station_latitude,\n",
    "            end_station_longitude\n",
    "        ))\n",
    "    ) as the_geom_webmercator,\n",
    "        COUNT(tripduration) as numtrips\n",
    "\n",
    "FROM citibike\n",
    "\n",
    "WHERE\n",
    "    tripduration < 7200\n",
    "AND\n",
    "    ST_DWithin(CDB_LatLng(\n",
    "        start_station_latitude,\n",
    "        start_station_longitude\n",
    "    )::geography,\n",
    "        CDB_LatLng(40.7577,-73.9857)::geography,\n",
    "        500)    \n",
    "\n",
    "\n",
    "GROUP BY\n",
    "    start_station_id,\n",
    "    start_station_latitude,\n",
    "    start_station_longitude,\n",
    "    end_station_id,\n",
    "    end_station_latitude,\n",
    "    end_station_longitude\n",
    "    \n",
    "\n",
    "'''\n",
    "pd.read_csv(StringIO.StringIO(queryCartoDB(q15)),sep=',')"
   ]
  },
  {
   "cell_type": "markdown",
   "metadata": {},
   "source": [
    "## ASH - Score 100. Extra CRedit 0"
   ]
  },
  {
   "cell_type": "code",
   "execution_count": null,
   "metadata": {},
   "outputs": [],
   "source": []
  }
 ],
 "metadata": {
  "kernelspec": {
   "display_name": "PUI2016_Python3",
   "language": "python",
   "name": "pui2016_python3"
  },
  "language_info": {
   "codemirror_mode": {
    "name": "ipython",
    "version": 3
   },
   "file_extension": ".py",
   "mimetype": "text/x-python",
   "name": "python",
   "nbconvert_exporter": "python",
   "pygments_lexer": "ipython3",
   "version": "3.5.4"
  }
 },
 "nbformat": 4,
 "nbformat_minor": 2
}

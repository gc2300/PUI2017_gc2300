{
 "cells": [
  {
   "cell_type": "code",
   "execution_count": 90,
   "metadata": {},
   "outputs": [
    {
     "name": "stdout",
     "output_type": "stream",
     "text": [
      "Populating the interactive namespace from numpy and matplotlib\n"
     ]
    }
   ],
   "source": [
    "from __future__ import print_function\n",
    "import pylab as pl\n",
    "import os\n",
    "import json\n",
    "import sys\n",
    "import pandas as pd\n",
    "import numpy as np\n",
    "%pylab inline\n",
    "pl.rc('font', size=15)\n",
    "\n"
   ]
  },
  {
   "cell_type": "code",
   "execution_count": null,
   "metadata": {
    "collapsed": true
   },
   "outputs": [],
   "source": []
  },
  {
   "cell_type": "code",
   "execution_count": 26,
   "metadata": {
    "collapsed": true
   },
   "outputs": [],
   "source": [
    "mtakey = sys.argv[1]\n",
    "bus = sys.argv[2]\n",
    "url = \"http://bustime.mta.info/api/siri/vehicle-monitoring.json?key=\" + \\\n",
    "        mtakey + \"&VehicleMonitoringDetailLevel=calls&LineRef=\" + bus\n",
    "mtakey = os.getenv(\"mtakey\")\n",
    "url = \"http://bustime.mta.info/api/siri/vehicle-monitoring.json?key=\" + \\\n",
    "        mtakey + \"&VehicleMonitoringDetailLevel=calls&LineRef=B52\""
   ]
  },
  {
   "cell_type": "code",
   "execution_count": 27,
   "metadata": {
    "collapsed": true
   },
   "outputs": [],
   "source": [
    "try:\n",
    "    import urllib2 as urllib\n",
    "except ImportError:\n",
    "    import urllib.request as urllib\n",
    "response = urllib.urlopen(url)\n",
    "data = response.read().decode(\"utf-8\")\n",
    "data = json.loads(data)"
   ]
  },
  {
   "cell_type": "code",
   "execution_count": null,
   "metadata": {},
   "outputs": [],
   "source": []
  },
  {
   "cell_type": "code",
   "execution_count": 95,
   "metadata": {},
   "outputs": [
    {
     "name": "stdout",
     "output_type": "stream",
     "text": [
      "Latitude,Longitude,Stop Name,Stop Status\n",
      "40.686159,-73.974062,FULTON ST/S PORTLAND AV,at stop\n",
      "40.685738,-73.954743,GATES AV/BEDFORD AV,at stop\n",
      "40.686169,-73.950986,GATES AV/NOSTRAND AV,at stop\n",
      "40.689433,-73.92256,GATES AV/BROADWAY,at stop\n",
      "40.68623,-73.974238,FULTON ST/S PORTLAND AV,at stop\n",
      "40.699127,-73.911431,PALMETTO ST/WYCKOFF AV,at stop\n",
      "40.688886,-73.927378,GATES AV/PATCHEN AV,approaching\n",
      "40.687581,-73.938738,GATES AV/MARCUS GARVEY BL,approaching\n",
      "40.69651,-73.915176,GATES AV/KNICKERBOCKER AV,approaching\n",
      "40.686462,-73.967974,GREENE AV/VANDERBILT AV,approaching\n",
      "40.688267,-73.979319,FULTON ST/HUDSON AV,approaching\n",
      "40.686042,-73.971634,GREENE AV/CUMBERLAND ST,approaching\n",
      "40.696184,-73.990908,Tillary St (not used),approaching\n",
      "40.690432,-73.984783,FULTON ST/BOND ST,< 1 stop away\n"
     ]
    }
   ],
   "source": [
    "bus = \"B52\"\n",
    "filename=\"businfo\"\n",
    "buses= data['Siri']['ServiceDelivery']['VehicleMonitoringDelivery'][0]['VehicleActivity']\n",
    "numbus=np.size(buses)\n",
    "csv = pd.DataFrame(columns=['Latitude', 'Longitude', 'Stop Name', 'Stop Status'])\n",
    "print (\"Latitude,Longitude,Stop Name,Stop Status\")\n",
    "for i in range(len(buses)):\n",
    "        lat = buses[i]['MonitoredVehicleJourney']['VehicleLocation']['Latitude']\n",
    "        lon = buses[i]['MonitoredVehicleJourney']['VehicleLocation']['Longitude']\n",
    "        if buses[i]['MonitoredVehicleJourney']['OnwardCalls']['OnwardCall'] == {}:\n",
    "            stopname= \"N/A\"\n",
    "            stopstatus = \"N/A\"\n",
    "        else:    \n",
    "            stopname = buses[i]['MonitoredVehicleJourney']['OnwardCalls']['OnwardCall'][0]['StopPointName']\n",
    "            stopstatus = buses[i]['MonitoredVehicleJourney']['OnwardCalls']['OnwardCall'][0]['Extensions']['Distances']['PresentableDistance']\n",
    "        print(\"%s,%s,%s,%s\" %(lat,lon,stopname,stopstatus))\n",
    "        df = pd.DataFrame({'Latitude': [lat], 'Longitude': [lon], 'Stop Name': [stopname], 'Stop Status': [stopstatus]})\n",
    "        csv = csv.append(df)\n",
    "        df = df.reset_index(drop=True)\n",
    "        csv.to_csv(filename)\n"
   ]
  },
  {
   "cell_type": "code",
   "execution_count": 70,
   "metadata": {},
   "outputs": [],
   "source": [
    "stopname= data['Siri']['ServiceDelivery']['VehicleMonitoringDelivery'][0]['VehicleActivity'][0]['MonitoredVehicleJourney']['OnwardCalls']['OnwardCall'][0]['StopPointName']"
   ]
  },
  {
   "cell_type": "code",
   "execution_count": 84,
   "metadata": {},
   "outputs": [
    {
     "name": "stdout",
     "output_type": "stream",
     "text": [
      "at stop\n"
     ]
    }
   ],
   "source": [
    "print(buses[0]['MonitoredVehicleJourney']['OnwardCalls']['OnwardCall'][0]['Extensions']['Distances']['PresentableDistance'])"
   ]
  },
  {
   "cell_type": "code",
   "execution_count": 31,
   "metadata": {
    "collapsed": true
   },
   "outputs": [],
   "source": [
    "status= data['Siri']['ServiceDelivery']['VehicleMonitoringDelivery'][0]['VehicleActivity'][0]['MonitoredVehicleJourney']['OnwardCalls']['OnwardCall'][0]['Extensions']['Distances']['PresentableDistance']"
   ]
  },
  {
   "cell_type": "code",
   "execution_count": 32,
   "metadata": {},
   "outputs": [
    {
     "name": "stdout",
     "output_type": "stream",
     "text": [
      "at stop\n"
     ]
    }
   ],
   "source": [
    "print(status)"
   ]
  },
  {
   "cell_type": "code",
   "execution_count": 38,
   "metadata": {
    "collapsed": true
   },
   "outputs": [],
   "source": [
    "location= data['Siri']['ServiceDelivery']['VehicleMonitoringDelivery'][0]['VehicleActivity'][0]['MonitoredVehicleJourney']['VehicleLocation']"
   ]
  },
  {
   "cell_type": "code",
   "execution_count": 39,
   "metadata": {},
   "outputs": [
    {
     "name": "stdout",
     "output_type": "stream",
     "text": [
      "{u'Latitude': 40.689433, u'Longitude': -73.92256}\n"
     ]
    }
   ],
   "source": [
    "print(location)"
   ]
  },
  {
   "cell_type": "code",
   "execution_count": null,
   "metadata": {},
   "outputs": [],
   "source": []
  },
  {
   "cell_type": "code",
   "execution_count": 73,
   "metadata": {},
   "outputs": [
    {
     "name": "stdout",
     "output_type": "stream",
     "text": [
      "{u'StopPointRef': u'MTA_302369', u'StopPointName': u'FULTON ST/S PORTLAND AV', u'Extensions': {u'Distances': {u'CallDistanceAlongRoute': 2085.33, u'StopsFromCall': 0, u'PresentableDistance': u'at stop', u'DistanceFromCall': 7.18}}, u'ExpectedArrivalTime': u'2017-09-27T10:22:22.574-04:00'}\n",
      "\n",
      "\n",
      "{u'StopPointRef': u'MTA_307547', u'StopPointName': u'GREENE AV/FULTON ST', u'Extensions': {u'Distances': {u'CallDistanceAlongRoute': 2214.42, u'StopsFromCall': 1, u'PresentableDistance': u'approaching', u'DistanceFromCall': 136.27}}, u'ExpectedArrivalTime': u'2017-09-27T10:22:47.507-04:00'}\n",
      "\n",
      "\n",
      "{u'StopPointRef': u'MTA_307548', u'StopPointName': u'GREENE AV/ADELPHI ST', u'Extensions': {u'Distances': {u'CallDistanceAlongRoute': 2427.7, u'StopsFromCall': 2, u'PresentableDistance': u'2 stops away', u'DistanceFromCall': 349.55}}, u'ExpectedArrivalTime': u'2017-09-27T10:23:51.507-04:00'}\n",
      "\n",
      "\n",
      "{u'StopPointRef': u'MTA_307549', u'StopPointName': u'GREENE AV/VANDERBILT AV', u'Extensions': {u'Distances': {u'CallDistanceAlongRoute': 2599.71, u'StopsFromCall': 3, u'PresentableDistance': u'3 stops away', u'DistanceFromCall': 521.57}}, u'ExpectedArrivalTime': u'2017-09-27T10:24:52.307-04:00'}\n",
      "\n",
      "\n",
      "{u'StopPointRef': u'MTA_307550', u'StopPointName': u'GREENE AV/WASHINGTON AV', u'Extensions': {u'Distances': {u'CallDistanceAlongRoute': 2849.35, u'StopsFromCall': 4, u'PresentableDistance': u'4 stops away', u'DistanceFromCall': 771.2}}, u'ExpectedArrivalTime': u'2017-09-27T10:26:19.992-04:00'}\n",
      "\n",
      "\n",
      "{u'StopPointRef': u'MTA_307551', u'StopPointName': u'GREENE AV/GRAND AV', u'Extensions': {u'Distances': {u'CallDistanceAlongRoute': 3107.79, u'StopsFromCall': 5, u'PresentableDistance': u'0.6 miles away', u'DistanceFromCall': 1029.64}}, u'ExpectedArrivalTime': u'2017-09-27T10:27:25.992-04:00'}\n",
      "\n",
      "\n",
      "{u'StopPointRef': u'MTA_307552', u'StopPointName': u'GREENE AV/CLASSON AV', u'Extensions': {u'Distances': {u'CallDistanceAlongRoute': 3346.41, u'StopsFromCall': 6, u'PresentableDistance': u'0.8 miles away', u'DistanceFromCall': 1268.27}}, u'ExpectedArrivalTime': u'2017-09-27T10:28:27.848-04:00'}\n",
      "\n",
      "\n",
      "{u'StopPointRef': u'MTA_307553', u'StopPointName': u'FRANKLIN AV/GREENE AV', u'Extensions': {u'Distances': {u'CallDistanceAlongRoute': 3579.59, u'StopsFromCall': 7, u'PresentableDistance': u'0.9 miles away', u'DistanceFromCall': 1501.44}}, u'ExpectedArrivalTime': u'2017-09-27T10:29:32.981-04:00'}\n",
      "\n",
      "\n",
      "{u'StopPointRef': u'MTA_307674', u'StopPointName': u'GATES AV/FRANKLIN AV', u'Extensions': {u'Distances': {u'CallDistanceAlongRoute': 3827.24, u'StopsFromCall': 8, u'PresentableDistance': u'1.1 miles away', u'DistanceFromCall': 1749.09}}, u'ExpectedArrivalTime': u'2017-09-27T10:30:37.100-04:00'}\n",
      "\n",
      "\n",
      "{u'StopPointRef': u'MTA_307675', u'StopPointName': u'GATES AV/BEDFORD AV', u'Extensions': {u'Distances': {u'CallDistanceAlongRoute': 4010.77, u'StopsFromCall': 9, u'PresentableDistance': u'1.2 miles away', u'DistanceFromCall': 1932.63}}, u'ExpectedArrivalTime': u'2017-09-27T10:31:44.304-04:00'}\n",
      "\n",
      "\n",
      "{u'StopPointRef': u'MTA_307676', u'StopPointName': u'GATES AV/NOSTRAND AV', u'Extensions': {u'Distances': {u'CallDistanceAlongRoute': 4274.94, u'StopsFromCall': 10, u'PresentableDistance': u'1.4 miles away', u'DistanceFromCall': 2196.8}}, u'ExpectedArrivalTime': u'2017-09-27T10:32:42.020-04:00'}\n",
      "\n",
      "\n",
      "{u'StopPointRef': u'MTA_307677', u'StopPointName': u'GATES AV/MARCY AV', u'Extensions': {u'Distances': {u'CallDistanceAlongRoute': 4600.33, u'StopsFromCall': 11, u'PresentableDistance': u'1.6 miles away', u'DistanceFromCall': 2522.18}}, u'ExpectedArrivalTime': u'2017-09-27T10:34:32.820-04:00'}\n",
      "\n",
      "\n",
      "{u'StopPointRef': u'MTA_307678', u'StopPointName': u'GATES AV/TOMPKINS AV', u'Extensions': {u'Distances': {u'CallDistanceAlongRoute': 4849.89, u'StopsFromCall': 12, u'PresentableDistance': u'1.7 miles away', u'DistanceFromCall': 2771.74}}, u'ExpectedArrivalTime': u'2017-09-27T10:36:04.204-04:00'}\n",
      "\n",
      "\n",
      "{u'StopPointRef': u'MTA_307679', u'StopPointName': u'GATES AV/THROOP AV', u'Extensions': {u'Distances': {u'CallDistanceAlongRoute': 5087.05, u'StopsFromCall': 13, u'PresentableDistance': u'1.9 miles away', u'DistanceFromCall': 3008.9}}, u'ExpectedArrivalTime': u'2017-09-27T10:37:26.845-04:00'}\n",
      "\n",
      "\n",
      "{u'StopPointRef': u'MTA_307680', u'StopPointName': u'GATES AV/MARCUS GARVEY BL', u'Extensions': {u'Distances': {u'CallDistanceAlongRoute': 5326.1, u'StopsFromCall': 14, u'PresentableDistance': u'2.0 miles away', u'DistanceFromCall': 3247.95}}, u'ExpectedArrivalTime': u'2017-09-27T10:38:38.567-04:00'}\n",
      "\n",
      "\n",
      "{u'StopPointRef': u'MTA_307681', u'StopPointName': u'GATES AV/LEWIS AV', u'Extensions': {u'Distances': {u'CallDistanceAlongRoute': 5574.85, u'StopsFromCall': 15, u'PresentableDistance': u'2.2 miles away', u'DistanceFromCall': 3496.7}}, u'ExpectedArrivalTime': u'2017-09-27T10:40:05.994-04:00'}\n",
      "\n",
      "\n",
      "{u'StopPointRef': u'MTA_307682', u'StopPointName': u'GATES AV/STUYVESANT AV', u'Extensions': {u'Distances': {u'CallDistanceAlongRoute': 5826.46, u'StopsFromCall': 16, u'PresentableDistance': u'2.3 miles away', u'DistanceFromCall': 3748.31}}, u'ExpectedArrivalTime': u'2017-09-27T10:41:17.636-04:00'}\n",
      "\n",
      "\n",
      "{u'StopPointRef': u'MTA_307683', u'StopPointName': u'GATES AV/MALCOLM X BL', u'Extensions': {u'Distances': {u'CallDistanceAlongRoute': 6075.85, u'StopsFromCall': 17, u'PresentableDistance': u'2.5 miles away', u'DistanceFromCall': 3997.7}}, u'ExpectedArrivalTime': u'2017-09-27T10:42:39.726-04:00'}\n",
      "\n",
      "\n",
      "{u'StopPointRef': u'MTA_307684', u'StopPointName': u'GATES AV/PATCHEN AV', u'Extensions': {u'Distances': {u'CallDistanceAlongRoute': 6321.91, u'StopsFromCall': 18, u'PresentableDistance': u'2.6 miles away', u'DistanceFromCall': 4243.76}}, u'ExpectedArrivalTime': u'2017-09-27T10:43:40.838-04:00'}\n",
      "\n",
      "\n",
      "{u'StopPointRef': u'MTA_307901', u'StopPointName': u'GATES AV/RALPH AV', u'Extensions': {u'Distances': {u'CallDistanceAlongRoute': 6555.96, u'StopsFromCall': 19, u'PresentableDistance': u'2.8 miles away', u'DistanceFromCall': 4477.81}}, u'ExpectedArrivalTime': u'2017-09-27T10:44:43.435-04:00'}\n",
      "\n",
      "\n",
      "{u'StopPointRef': u'MTA_307686', u'StopPointName': u'GATES AV/BROADWAY', u'Extensions': {u'Distances': {u'CallDistanceAlongRoute': 6717.8, u'StopsFromCall': 20, u'PresentableDistance': u'2.9 miles away', u'DistanceFromCall': 4639.65}}, u'ExpectedArrivalTime': u'2017-09-27T10:45:55.443-04:00'}\n",
      "\n",
      "\n",
      "{u'StopPointRef': u'MTA_307687', u'StopPointName': u'GATES AV/BUSHWICK AV', u'Extensions': {u'Distances': {u'CallDistanceAlongRoute': 6962.31, u'StopsFromCall': 21, u'PresentableDistance': u'3.0 miles away', u'DistanceFromCall': 4884.16}}, u'ExpectedArrivalTime': u'2017-09-27T10:47:28.145-04:00'}\n",
      "\n",
      "\n",
      "{u'StopPointRef': u'MTA_307688', u'StopPointName': u'GATES AV/EVERGREEN AV', u'Extensions': {u'Distances': {u'CallDistanceAlongRoute': 7131.71, u'StopsFromCall': 22, u'PresentableDistance': u'3.1 miles away', u'DistanceFromCall': 5053.56}}, u'ExpectedArrivalTime': u'2017-09-27T10:48:16.432-04:00'}\n",
      "\n",
      "\n",
      "{u'StopPointRef': u'MTA_307689', u'StopPointName': u'GATES AV/CENTRAL AV', u'Extensions': {u'Distances': {u'CallDistanceAlongRoute': 7373.59, u'StopsFromCall': 23, u'PresentableDistance': u'3.3 miles away', u'DistanceFromCall': 5295.44}}, u'ExpectedArrivalTime': u'2017-09-27T10:49:24.032-04:00'}\n",
      "\n",
      "\n",
      "{u'StopPointRef': u'MTA_307690', u'StopPointName': u'GATES AV/WILSON AV', u'Extensions': {u'Distances': {u'CallDistanceAlongRoute': 7576.02, u'StopsFromCall': 24, u'PresentableDistance': u'3.4 miles away', u'DistanceFromCall': 5497.87}}, u'ExpectedArrivalTime': u'2017-09-27T10:50:28.832-04:00'}\n",
      "\n",
      "\n",
      "{u'StopPointRef': u'MTA_307691', u'StopPointName': u'GATES AV/KNICKERBOCKER AV', u'Extensions': {u'Distances': {u'CallDistanceAlongRoute': 7782.09, u'StopsFromCall': 25, u'PresentableDistance': u'3.5 miles away', u'DistanceFromCall': 5703.94}}, u'ExpectedArrivalTime': u'2017-09-27T10:51:22.032-04:00'}\n",
      "\n",
      "\n",
      "{u'StopPointRef': u'MTA_304415', u'StopPointName': u'PALMETTO ST/IRVING AV', u'Extensions': {u'Distances': {u'CallDistanceAlongRoute': 8081.37, u'StopsFromCall': 26, u'PresentableDistance': u'3.7 miles away', u'DistanceFromCall': 6003.22}}, u'ExpectedArrivalTime': u'2017-09-27T10:52:48.649-04:00'}\n",
      "\n",
      "\n",
      "{u'StopPointRef': u'MTA_801117', u'StopPointName': u'PALMETTO ST/WYCKOFF AV', u'Extensions': {u'Distances': {u'CallDistanceAlongRoute': 8231.28, u'StopsFromCall': 27, u'PresentableDistance': u'3.8 miles away', u'DistanceFromCall': 6153.13}}, u'ExpectedArrivalTime': u'2017-09-27T10:53:24.449-04:00'}\n",
      "\n",
      "\n"
     ]
    }
   ],
   "source": [
    "for i in range(len(data['Siri']['ServiceDelivery']['VehicleMonitoringDelivery'][0]['VehicleActivity'][0]['MonitoredVehicleJourney']['OnwardCalls']['OnwardCall'])):\n",
    "    print(data['Siri']['ServiceDelivery']['VehicleMonitoringDelivery'][0]['VehicleActivity'][0]['MonitoredVehicleJourney']['OnwardCalls']['OnwardCall'][i])\n",
    "    print('\\n')"
   ]
  },
  {
   "cell_type": "code",
   "execution_count": 80,
   "metadata": {},
   "outputs": [
    {
     "name": "stdout",
     "output_type": "stream",
     "text": [
      "1\n"
     ]
    }
   ],
   "source": [
    "print(len(data['Siri']['ServiceDelivery']['VehicleMonitoringDelivery'][0]['VehicleActivity'][0]['MonitoredVehicleJourney']['OnwardCalls']))"
   ]
  },
  {
   "cell_type": "code",
   "execution_count": null,
   "metadata": {
    "collapsed": true
   },
   "outputs": [],
   "source": [
    "print(\"Latitude,Longitude,Stop Name,Stop Status\")\n",
    "for i in len()"
   ]
  }
 ],
 "metadata": {
  "kernelspec": {
   "display_name": "Python 3",
   "language": "python",
   "name": "python3"
  },
  "language_info": {
   "codemirror_mode": {
    "name": "ipython",
    "version": 2
   },
   "file_extension": ".py",
   "mimetype": "text/x-python",
   "name": "python",
   "nbconvert_exporter": "python",
   "pygments_lexer": "ipython2",
   "version": "2.7.13"
  }
 },
 "nbformat": 4,
 "nbformat_minor": 2
}

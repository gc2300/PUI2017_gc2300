{
 "cells": [
  {
   "cell_type": "code",
   "execution_count": 3,
   "metadata": {
    "collapsed": true
   },
   "outputs": [],
   "source": [
    "#Wan Yuken taught me how to read data from compute"
   ]
  },
  {
   "cell_type": "code",
   "execution_count": 4,
   "metadata": {
    "collapsed": false
   },
   "outputs": [
    {
     "name": "stdout",
     "output_type": "stream",
     "text": [
      "/gws/open/NYCOpenData/nycopendata/data/42et-jh9v/doe hsdirectory performance column description.csv\r\n",
      "/gws/open/NYCOpenData/nycopendata/data/5uac-w243/NYPD_Incident_Level_Data_Column_Descriptions.csv\r\n",
      "/gws/open/NYCOpenData/nycopendata/data/c3uy-2p5r/OutdoorAirandHealthInfoSource.csv\r\n",
      "/gws/open/NYCOpenData/nycopendata/data/eccv-9dzr/ARCHIVED_FHV_Bases_20170310.csv\r\n",
      "/gws/open/NYCOpenData/nycopendata/data/fdkv-4t4z/ARCHIVED_NYC_Zoning_Tax_Lot_Database_03092017.csv\r\n",
      "/gws/open/NYCOpenData/nycopendata/data/i9pf-sj7c/doe hsdirectory program column description.csv\r\n",
      "/gws/open/NYCOpenData/nycopendata/data/nzjr-3966/Field_Descriptions.csv\r\n",
      "/gws/open/NYCOpenData/nycopendata/data/qgea-i56i/NYPD_Incident_Level_Data_Column_Descriptions.csv\r\n",
      "/gws/open/NYCOpenData/nycopendata/data/u553-m549/doe hsdirectory school column description.csv\r\n"
     ]
    }
   ],
   "source": [
    "!ls $DFDATA/*/*csv"
   ]
  },
  {
   "cell_type": "code",
   "execution_count": 5,
   "metadata": {
    "collapsed": false
   },
   "outputs": [
    {
     "name": "stdout",
     "output_type": "stream",
     "text": [
      "Populating the interactive namespace from numpy and matplotlib\n"
     ]
    }
   ],
   "source": [
    "from __future__ import print_function\n",
    "import pandas as pd\n",
    "import numpy as np\n",
    "import csv\n",
    "import os\n",
    "import pylab as pl\n",
    "%pylab inline\n",
    "try:\n",
    "    import urllib2 as urllib\n",
    "except ImportError:\n",
    "    import urllib.request as urllib"
   ]
  },
  {
   "cell_type": "code",
   "execution_count": 6,
   "metadata": {
    "collapsed": false
   },
   "outputs": [],
   "source": [
    "dfdata=os.getenv(\"DFDATA\")\n",
    "dfdata\n",
    "os.chdir(os.getenv(\"DFDATA\"))\n",
    "os.chdir('5uac-w243')"
   ]
  },
  {
   "cell_type": "code",
   "execution_count": 7,
   "metadata": {
    "collapsed": false
   },
   "outputs": [
    {
     "name": "stdout",
     "output_type": "stream",
     "text": [
      "\u001b[0m\u001b[01;34m1486080000\u001b[0m/\r\n",
      "NYPD_Incident_Level_Data_Column_Descriptions.csv\r\n",
      "NYPDIncidentLevelDataFootnotes.pdf\r\n",
      "\u001b[m"
     ]
    }
   ],
   "source": [
    "ls"
   ]
  },
  {
   "cell_type": "code",
   "execution_count": 8,
   "metadata": {
    "collapsed": false
   },
   "outputs": [],
   "source": [
    "os.chdir('1486080000')"
   ]
  },
  {
   "cell_type": "code",
   "execution_count": 9,
   "metadata": {
    "collapsed": false
   },
   "outputs": [
    {
     "name": "stdout",
     "output_type": "stream",
     "text": [
      "5uac-w243.csv\r\n"
     ]
    }
   ],
   "source": [
    "ls"
   ]
  },
  {
   "cell_type": "code",
   "execution_count": 10,
   "metadata": {
    "collapsed": false
   },
   "outputs": [],
   "source": [
    "data = pd.read_csv(\"5uac-w243.csv\")"
   ]
  },
  {
   "cell_type": "code",
   "execution_count": 11,
   "metadata": {
    "collapsed": false
   },
   "outputs": [
    {
     "data": {
      "text/html": [
       "<div>\n",
       "<table border=\"1\" class=\"dataframe\">\n",
       "  <thead>\n",
       "    <tr style=\"text-align: right;\">\n",
       "      <th></th>\n",
       "      <th>CMPLNT_NUM</th>\n",
       "      <th>CMPLNT_FR_DT</th>\n",
       "      <th>CMPLNT_FR_TM</th>\n",
       "      <th>CMPLNT_TO_DT</th>\n",
       "      <th>CMPLNT_TO_TM</th>\n",
       "      <th>RPT_DT</th>\n",
       "      <th>KY_CD</th>\n",
       "      <th>OFNS_DESC</th>\n",
       "      <th>PD_CD</th>\n",
       "      <th>PD_DESC</th>\n",
       "      <th>...</th>\n",
       "      <th>ADDR_PCT_CD</th>\n",
       "      <th>LOC_OF_OCCUR_DESC</th>\n",
       "      <th>PREM_TYP_DESC</th>\n",
       "      <th>PARKS_NM</th>\n",
       "      <th>HADEVELOPT</th>\n",
       "      <th>X_COORD_CD</th>\n",
       "      <th>Y_COORD_CD</th>\n",
       "      <th>Latitude</th>\n",
       "      <th>Longitude</th>\n",
       "      <th>Lat_Lon</th>\n",
       "    </tr>\n",
       "  </thead>\n",
       "  <tbody>\n",
       "    <tr>\n",
       "      <th>0</th>\n",
       "      <td>586068632</td>\n",
       "      <td>12/31/2016</td>\n",
       "      <td>23:55:00</td>\n",
       "      <td>12/31/2016</td>\n",
       "      <td>23:56:00</td>\n",
       "      <td>12/31/2016</td>\n",
       "      <td>235</td>\n",
       "      <td>DANGEROUS DRUGS</td>\n",
       "      <td>511.0</td>\n",
       "      <td>CONTROLLED SUBSTANCE, POSSESSI</td>\n",
       "      <td>...</td>\n",
       "      <td>14</td>\n",
       "      <td>INSIDE</td>\n",
       "      <td>BUS TERMINAL</td>\n",
       "      <td>NaN</td>\n",
       "      <td>NaN</td>\n",
       "      <td>986882.0</td>\n",
       "      <td>214802.0</td>\n",
       "      <td>40.756266</td>\n",
       "      <td>-73.990501</td>\n",
       "      <td>(40.756266207, -73.990501248)</td>\n",
       "    </tr>\n",
       "    <tr>\n",
       "      <th>1</th>\n",
       "      <td>155423129</td>\n",
       "      <td>12/31/2016</td>\n",
       "      <td>23:40:00</td>\n",
       "      <td>12/31/2016</td>\n",
       "      <td>23:50:00</td>\n",
       "      <td>12/31/2016</td>\n",
       "      <td>105</td>\n",
       "      <td>ROBBERY</td>\n",
       "      <td>389.0</td>\n",
       "      <td>ROBBERY,DWELLING</td>\n",
       "      <td>...</td>\n",
       "      <td>43</td>\n",
       "      <td>INSIDE</td>\n",
       "      <td>RESIDENCE - APT. HOUSE</td>\n",
       "      <td>NaN</td>\n",
       "      <td>NaN</td>\n",
       "      <td>1021170.0</td>\n",
       "      <td>241240.0</td>\n",
       "      <td>40.828755</td>\n",
       "      <td>-73.866594</td>\n",
       "      <td>(40.828754623, -73.866593516)</td>\n",
       "    </tr>\n",
       "    <tr>\n",
       "      <th>2</th>\n",
       "      <td>653964645</td>\n",
       "      <td>12/31/2016</td>\n",
       "      <td>23:30:00</td>\n",
       "      <td>12/31/2016</td>\n",
       "      <td>23:31:00</td>\n",
       "      <td>12/31/2016</td>\n",
       "      <td>344</td>\n",
       "      <td>ASSAULT 3 &amp; RELATED OFFENSES</td>\n",
       "      <td>101.0</td>\n",
       "      <td>ASSAULT 3</td>\n",
       "      <td>...</td>\n",
       "      <td>25</td>\n",
       "      <td>FRONT OF</td>\n",
       "      <td>STREET</td>\n",
       "      <td>NaN</td>\n",
       "      <td>NaN</td>\n",
       "      <td>1001512.0</td>\n",
       "      <td>234334.0</td>\n",
       "      <td>40.809860</td>\n",
       "      <td>-73.937644</td>\n",
       "      <td>(40.809859893, -73.937644103)</td>\n",
       "    </tr>\n",
       "    <tr>\n",
       "      <th>3</th>\n",
       "      <td>988275798</td>\n",
       "      <td>12/31/2016</td>\n",
       "      <td>23:25:00</td>\n",
       "      <td>NaN</td>\n",
       "      <td>NaN</td>\n",
       "      <td>12/31/2016</td>\n",
       "      <td>235</td>\n",
       "      <td>DANGEROUS DRUGS</td>\n",
       "      <td>567.0</td>\n",
       "      <td>MARIJUANA, POSSESSION 4 &amp; 5</td>\n",
       "      <td>...</td>\n",
       "      <td>7</td>\n",
       "      <td>OPPOSITE OF</td>\n",
       "      <td>STREET</td>\n",
       "      <td>NaN</td>\n",
       "      <td>NaN</td>\n",
       "      <td>987182.0</td>\n",
       "      <td>201484.0</td>\n",
       "      <td>40.719711</td>\n",
       "      <td>-73.989424</td>\n",
       "      <td>(40.719711494, -73.9894242)</td>\n",
       "    </tr>\n",
       "    <tr>\n",
       "      <th>4</th>\n",
       "      <td>225104473</td>\n",
       "      <td>12/31/2016</td>\n",
       "      <td>23:24:00</td>\n",
       "      <td>12/31/2016</td>\n",
       "      <td>23:30:00</td>\n",
       "      <td>12/31/2016</td>\n",
       "      <td>106</td>\n",
       "      <td>FELONY ASSAULT</td>\n",
       "      <td>109.0</td>\n",
       "      <td>ASSAULT 2,1,UNCLASSIFIED</td>\n",
       "      <td>...</td>\n",
       "      <td>102</td>\n",
       "      <td>NaN</td>\n",
       "      <td>STREET</td>\n",
       "      <td>NaN</td>\n",
       "      <td>NaN</td>\n",
       "      <td>1026086.0</td>\n",
       "      <td>192340.0</td>\n",
       "      <td>40.694515</td>\n",
       "      <td>-73.849134</td>\n",
       "      <td>(40.694514975, -73.849134227)</td>\n",
       "    </tr>\n",
       "  </tbody>\n",
       "</table>\n",
       "<p>5 rows × 24 columns</p>\n",
       "</div>"
      ],
      "text/plain": [
       "   CMPLNT_NUM CMPLNT_FR_DT CMPLNT_FR_TM CMPLNT_TO_DT CMPLNT_TO_TM      RPT_DT  \\\n",
       "0   586068632   12/31/2016     23:55:00   12/31/2016     23:56:00  12/31/2016   \n",
       "1   155423129   12/31/2016     23:40:00   12/31/2016     23:50:00  12/31/2016   \n",
       "2   653964645   12/31/2016     23:30:00   12/31/2016     23:31:00  12/31/2016   \n",
       "3   988275798   12/31/2016     23:25:00          NaN          NaN  12/31/2016   \n",
       "4   225104473   12/31/2016     23:24:00   12/31/2016     23:30:00  12/31/2016   \n",
       "\n",
       "   KY_CD                     OFNS_DESC  PD_CD                         PD_DESC  \\\n",
       "0    235               DANGEROUS DRUGS  511.0  CONTROLLED SUBSTANCE, POSSESSI   \n",
       "1    105                       ROBBERY  389.0                ROBBERY,DWELLING   \n",
       "2    344  ASSAULT 3 & RELATED OFFENSES  101.0                       ASSAULT 3   \n",
       "3    235               DANGEROUS DRUGS  567.0     MARIJUANA, POSSESSION 4 & 5   \n",
       "4    106                FELONY ASSAULT  109.0        ASSAULT 2,1,UNCLASSIFIED   \n",
       "\n",
       "               ...               ADDR_PCT_CD LOC_OF_OCCUR_DESC  \\\n",
       "0              ...                        14            INSIDE   \n",
       "1              ...                        43            INSIDE   \n",
       "2              ...                        25          FRONT OF   \n",
       "3              ...                         7       OPPOSITE OF   \n",
       "4              ...                       102               NaN   \n",
       "\n",
       "            PREM_TYP_DESC PARKS_NM  HADEVELOPT X_COORD_CD Y_COORD_CD  \\\n",
       "0            BUS TERMINAL      NaN         NaN   986882.0   214802.0   \n",
       "1  RESIDENCE - APT. HOUSE      NaN         NaN  1021170.0   241240.0   \n",
       "2                  STREET      NaN         NaN  1001512.0   234334.0   \n",
       "3                  STREET      NaN         NaN   987182.0   201484.0   \n",
       "4                  STREET      NaN         NaN  1026086.0   192340.0   \n",
       "\n",
       "    Latitude  Longitude                        Lat_Lon  \n",
       "0  40.756266 -73.990501  (40.756266207, -73.990501248)  \n",
       "1  40.828755 -73.866594  (40.828754623, -73.866593516)  \n",
       "2  40.809860 -73.937644  (40.809859893, -73.937644103)  \n",
       "3  40.719711 -73.989424    (40.719711494, -73.9894242)  \n",
       "4  40.694515 -73.849134  (40.694514975, -73.849134227)  \n",
       "\n",
       "[5 rows x 24 columns]"
      ]
     },
     "execution_count": 11,
     "metadata": {},
     "output_type": "execute_result"
    }
   ],
   "source": [
    "data.head()"
   ]
  },
  {
   "cell_type": "code",
   "execution_count": 12,
   "metadata": {
    "collapsed": false
   },
   "outputs": [],
   "source": [
    "newdata=data[['Latitude', 'Longitude']]"
   ]
  },
  {
   "cell_type": "code",
   "execution_count": 13,
   "metadata": {
    "collapsed": false
   },
   "outputs": [
    {
     "data": {
      "text/html": [
       "<div>\n",
       "<table border=\"1\" class=\"dataframe\">\n",
       "  <thead>\n",
       "    <tr style=\"text-align: right;\">\n",
       "      <th></th>\n",
       "      <th>Latitude</th>\n",
       "      <th>Longitude</th>\n",
       "    </tr>\n",
       "  </thead>\n",
       "  <tbody>\n",
       "    <tr>\n",
       "      <th>0</th>\n",
       "      <td>40.756266</td>\n",
       "      <td>-73.990501</td>\n",
       "    </tr>\n",
       "    <tr>\n",
       "      <th>1</th>\n",
       "      <td>40.828755</td>\n",
       "      <td>-73.866594</td>\n",
       "    </tr>\n",
       "    <tr>\n",
       "      <th>2</th>\n",
       "      <td>40.809860</td>\n",
       "      <td>-73.937644</td>\n",
       "    </tr>\n",
       "    <tr>\n",
       "      <th>3</th>\n",
       "      <td>40.719711</td>\n",
       "      <td>-73.989424</td>\n",
       "    </tr>\n",
       "    <tr>\n",
       "      <th>4</th>\n",
       "      <td>40.694515</td>\n",
       "      <td>-73.849134</td>\n",
       "    </tr>\n",
       "  </tbody>\n",
       "</table>\n",
       "</div>"
      ],
      "text/plain": [
       "    Latitude  Longitude\n",
       "0  40.756266 -73.990501\n",
       "1  40.828755 -73.866594\n",
       "2  40.809860 -73.937644\n",
       "3  40.719711 -73.989424\n",
       "4  40.694515 -73.849134"
      ]
     },
     "execution_count": 13,
     "metadata": {},
     "output_type": "execute_result"
    }
   ],
   "source": [
    "newdata.head()"
   ]
  },
  {
   "cell_type": "code",
   "execution_count": 14,
   "metadata": {
    "collapsed": false
   },
   "outputs": [
    {
     "data": {
      "text/plain": [
       "<matplotlib.text.Text at 0x7f7286d4c0b8>"
      ]
     },
     "execution_count": 14,
     "metadata": {},
     "output_type": "execute_result"
    },
    {
     "data": {
      "image/png": "[encoded data removed]",
      "text/plain": [
       "<matplotlib.figure.Figure at 0x7f72835f5a20>"
      ]
     },
     "metadata": {},
     "output_type": "display_data"
    }
   ],
   "source": [
    "graph = data.plot(y='Latitude', x='Longitude', kind=\"scatter\",alpha=0.2)\n",
    "graph.set_title(\"NYPD Incident Locations\")\n",
    "graph.set_title(\"NYPD Incident Locations\")"
   ]
  },
  {
   "cell_type": "markdown",
   "metadata": {
    "collapsed": false
   },
   "source": [
    "# Extra credits"
   ]
  },
  {
   "cell_type": "code",
   "execution_count": 15,
   "metadata": {
    "collapsed": false
   },
   "outputs": [],
   "source": [
    "data4 = pd.read_csv(\"5uac-w243.csv\", parse_dates=[['CMPLNT_FR_DT', 'CMPLNT_FR_TM']]) "
   ]
  },
  {
   "cell_type": "code",
   "execution_count": 16,
   "metadata": {
    "collapsed": false
   },
   "outputs": [
    {
     "data": {
      "text/html": [
       "<div>\n",
       "<table border=\"1\" class=\"dataframe\">\n",
       "  <thead>\n",
       "    <tr style=\"text-align: right;\">\n",
       "      <th></th>\n",
       "      <th>CMPLNT_FR_DT_CMPLNT_FR_TM</th>\n",
       "      <th>CMPLNT_NUM</th>\n",
       "      <th>CMPLNT_TO_DT</th>\n",
       "      <th>CMPLNT_TO_TM</th>\n",
       "      <th>RPT_DT</th>\n",
       "      <th>KY_CD</th>\n",
       "      <th>OFNS_DESC</th>\n",
       "      <th>PD_CD</th>\n",
       "      <th>PD_DESC</th>\n",
       "      <th>CRM_ATPT_CPTD_CD</th>\n",
       "      <th>...</th>\n",
       "      <th>ADDR_PCT_CD</th>\n",
       "      <th>LOC_OF_OCCUR_DESC</th>\n",
       "      <th>PREM_TYP_DESC</th>\n",
       "      <th>PARKS_NM</th>\n",
       "      <th>HADEVELOPT</th>\n",
       "      <th>X_COORD_CD</th>\n",
       "      <th>Y_COORD_CD</th>\n",
       "      <th>Latitude</th>\n",
       "      <th>Longitude</th>\n",
       "      <th>Lat_Lon</th>\n",
       "    </tr>\n",
       "  </thead>\n",
       "  <tbody>\n",
       "    <tr>\n",
       "      <th>0</th>\n",
       "      <td>12/31/2016 23:55:00</td>\n",
       "      <td>586068632</td>\n",
       "      <td>12/31/2016</td>\n",
       "      <td>23:56:00</td>\n",
       "      <td>12/31/2016</td>\n",
       "      <td>235</td>\n",
       "      <td>DANGEROUS DRUGS</td>\n",
       "      <td>511.0</td>\n",
       "      <td>CONTROLLED SUBSTANCE, POSSESSI</td>\n",
       "      <td>COMPLETED</td>\n",
       "      <td>...</td>\n",
       "      <td>14</td>\n",
       "      <td>INSIDE</td>\n",
       "      <td>BUS TERMINAL</td>\n",
       "      <td>NaN</td>\n",
       "      <td>NaN</td>\n",
       "      <td>986882.0</td>\n",
       "      <td>214802.0</td>\n",
       "      <td>40.756266</td>\n",
       "      <td>-73.990501</td>\n",
       "      <td>(40.756266207, -73.990501248)</td>\n",
       "    </tr>\n",
       "    <tr>\n",
       "      <th>1</th>\n",
       "      <td>12/31/2016 23:40:00</td>\n",
       "      <td>155423129</td>\n",
       "      <td>12/31/2016</td>\n",
       "      <td>23:50:00</td>\n",
       "      <td>12/31/2016</td>\n",
       "      <td>105</td>\n",
       "      <td>ROBBERY</td>\n",
       "      <td>389.0</td>\n",
       "      <td>ROBBERY,DWELLING</td>\n",
       "      <td>COMPLETED</td>\n",
       "      <td>...</td>\n",
       "      <td>43</td>\n",
       "      <td>INSIDE</td>\n",
       "      <td>RESIDENCE - APT. HOUSE</td>\n",
       "      <td>NaN</td>\n",
       "      <td>NaN</td>\n",
       "      <td>1021170.0</td>\n",
       "      <td>241240.0</td>\n",
       "      <td>40.828755</td>\n",
       "      <td>-73.866594</td>\n",
       "      <td>(40.828754623, -73.866593516)</td>\n",
       "    </tr>\n",
       "    <tr>\n",
       "      <th>2</th>\n",
       "      <td>12/31/2016 23:30:00</td>\n",
       "      <td>653964645</td>\n",
       "      <td>12/31/2016</td>\n",
       "      <td>23:31:00</td>\n",
       "      <td>12/31/2016</td>\n",
       "      <td>344</td>\n",
       "      <td>ASSAULT 3 &amp; RELATED OFFENSES</td>\n",
       "      <td>101.0</td>\n",
       "      <td>ASSAULT 3</td>\n",
       "      <td>COMPLETED</td>\n",
       "      <td>...</td>\n",
       "      <td>25</td>\n",
       "      <td>FRONT OF</td>\n",
       "      <td>STREET</td>\n",
       "      <td>NaN</td>\n",
       "      <td>NaN</td>\n",
       "      <td>1001512.0</td>\n",
       "      <td>234334.0</td>\n",
       "      <td>40.809860</td>\n",
       "      <td>-73.937644</td>\n",
       "      <td>(40.809859893, -73.937644103)</td>\n",
       "    </tr>\n",
       "    <tr>\n",
       "      <th>3</th>\n",
       "      <td>12/31/2016 23:25:00</td>\n",
       "      <td>988275798</td>\n",
       "      <td>NaN</td>\n",
       "      <td>NaN</td>\n",
       "      <td>12/31/2016</td>\n",
       "      <td>235</td>\n",
       "      <td>DANGEROUS DRUGS</td>\n",
       "      <td>567.0</td>\n",
       "      <td>MARIJUANA, POSSESSION 4 &amp; 5</td>\n",
       "      <td>COMPLETED</td>\n",
       "      <td>...</td>\n",
       "      <td>7</td>\n",
       "      <td>OPPOSITE OF</td>\n",
       "      <td>STREET</td>\n",
       "      <td>NaN</td>\n",
       "      <td>NaN</td>\n",
       "      <td>987182.0</td>\n",
       "      <td>201484.0</td>\n",
       "      <td>40.719711</td>\n",
       "      <td>-73.989424</td>\n",
       "      <td>(40.719711494, -73.9894242)</td>\n",
       "    </tr>\n",
       "    <tr>\n",
       "      <th>4</th>\n",
       "      <td>12/31/2016 23:24:00</td>\n",
       "      <td>225104473</td>\n",
       "      <td>12/31/2016</td>\n",
       "      <td>23:30:00</td>\n",
       "      <td>12/31/2016</td>\n",
       "      <td>106</td>\n",
       "      <td>FELONY ASSAULT</td>\n",
       "      <td>109.0</td>\n",
       "      <td>ASSAULT 2,1,UNCLASSIFIED</td>\n",
       "      <td>COMPLETED</td>\n",
       "      <td>...</td>\n",
       "      <td>102</td>\n",
       "      <td>NaN</td>\n",
       "      <td>STREET</td>\n",
       "      <td>NaN</td>\n",
       "      <td>NaN</td>\n",
       "      <td>1026086.0</td>\n",
       "      <td>192340.0</td>\n",
       "      <td>40.694515</td>\n",
       "      <td>-73.849134</td>\n",
       "      <td>(40.694514975, -73.849134227)</td>\n",
       "    </tr>\n",
       "  </tbody>\n",
       "</table>\n",
       "<p>5 rows × 23 columns</p>\n",
       "</div>"
      ],
      "text/plain": [
       "  CMPLNT_FR_DT_CMPLNT_FR_TM  CMPLNT_NUM CMPLNT_TO_DT CMPLNT_TO_TM      RPT_DT  \\\n",
       "0       12/31/2016 23:55:00   586068632   12/31/2016     23:56:00  12/31/2016   \n",
       "1       12/31/2016 23:40:00   155423129   12/31/2016     23:50:00  12/31/2016   \n",
       "2       12/31/2016 23:30:00   653964645   12/31/2016     23:31:00  12/31/2016   \n",
       "3       12/31/2016 23:25:00   988275798          NaN          NaN  12/31/2016   \n",
       "4       12/31/2016 23:24:00   225104473   12/31/2016     23:30:00  12/31/2016   \n",
       "\n",
       "   KY_CD                     OFNS_DESC  PD_CD                         PD_DESC  \\\n",
       "0    235               DANGEROUS DRUGS  511.0  CONTROLLED SUBSTANCE, POSSESSI   \n",
       "1    105                       ROBBERY  389.0                ROBBERY,DWELLING   \n",
       "2    344  ASSAULT 3 & RELATED OFFENSES  101.0                       ASSAULT 3   \n",
       "3    235               DANGEROUS DRUGS  567.0     MARIJUANA, POSSESSION 4 & 5   \n",
       "4    106                FELONY ASSAULT  109.0        ASSAULT 2,1,UNCLASSIFIED   \n",
       "\n",
       "  CRM_ATPT_CPTD_CD              ...               ADDR_PCT_CD  \\\n",
       "0        COMPLETED              ...                        14   \n",
       "1        COMPLETED              ...                        43   \n",
       "2        COMPLETED              ...                        25   \n",
       "3        COMPLETED              ...                         7   \n",
       "4        COMPLETED              ...                       102   \n",
       "\n",
       "  LOC_OF_OCCUR_DESC           PREM_TYP_DESC  PARKS_NM HADEVELOPT X_COORD_CD  \\\n",
       "0            INSIDE            BUS TERMINAL       NaN        NaN   986882.0   \n",
       "1            INSIDE  RESIDENCE - APT. HOUSE       NaN        NaN  1021170.0   \n",
       "2          FRONT OF                  STREET       NaN        NaN  1001512.0   \n",
       "3       OPPOSITE OF                  STREET       NaN        NaN   987182.0   \n",
       "4               NaN                  STREET       NaN        NaN  1026086.0   \n",
       "\n",
       "  Y_COORD_CD   Latitude  Longitude                        Lat_Lon  \n",
       "0   214802.0  40.756266 -73.990501  (40.756266207, -73.990501248)  \n",
       "1   241240.0  40.828755 -73.866594  (40.828754623, -73.866593516)  \n",
       "2   234334.0  40.809860 -73.937644  (40.809859893, -73.937644103)  \n",
       "3   201484.0  40.719711 -73.989424    (40.719711494, -73.9894242)  \n",
       "4   192340.0  40.694515 -73.849134  (40.694514975, -73.849134227)  \n",
       "\n",
       "[5 rows x 23 columns]"
      ]
     },
     "execution_count": 16,
     "metadata": {},
     "output_type": "execute_result"
    }
   ],
   "source": [
    "data4.head()"
   ]
  },
  {
   "cell_type": "code",
   "execution_count": 54,
   "metadata": {
    "collapsed": false
   },
   "outputs": [],
   "source": [
    "data5=data4[['CMPLNT_FR_DT_CMPLNT_FR_TM','KY_CD']]"
   ]
  },
  {
   "cell_type": "code",
   "execution_count": 55,
   "metadata": {
    "collapsed": false
   },
   "outputs": [
    {
     "data": {
      "text/html": [
       "<div>\n",
       "<table border=\"1\" class=\"dataframe\">\n",
       "  <thead>\n",
       "    <tr style=\"text-align: right;\">\n",
       "      <th></th>\n",
       "      <th>CMPLNT_FR_DT_CMPLNT_FR_TM</th>\n",
       "      <th>KY_CD</th>\n",
       "    </tr>\n",
       "  </thead>\n",
       "  <tbody>\n",
       "    <tr>\n",
       "      <th>0</th>\n",
       "      <td>12/31/2016 23:55:00</td>\n",
       "      <td>235</td>\n",
       "    </tr>\n",
       "    <tr>\n",
       "      <th>1</th>\n",
       "      <td>12/31/2016 23:40:00</td>\n",
       "      <td>105</td>\n",
       "    </tr>\n",
       "    <tr>\n",
       "      <th>2</th>\n",
       "      <td>12/31/2016 23:30:00</td>\n",
       "      <td>344</td>\n",
       "    </tr>\n",
       "    <tr>\n",
       "      <th>3</th>\n",
       "      <td>12/31/2016 23:25:00</td>\n",
       "      <td>235</td>\n",
       "    </tr>\n",
       "    <tr>\n",
       "      <th>4</th>\n",
       "      <td>12/31/2016 23:24:00</td>\n",
       "      <td>106</td>\n",
       "    </tr>\n",
       "  </tbody>\n",
       "</table>\n",
       "</div>"
      ],
      "text/plain": [
       "  CMPLNT_FR_DT_CMPLNT_FR_TM  KY_CD\n",
       "0       12/31/2016 23:55:00    235\n",
       "1       12/31/2016 23:40:00    105\n",
       "2       12/31/2016 23:30:00    344\n",
       "3       12/31/2016 23:25:00    235\n",
       "4       12/31/2016 23:24:00    106"
      ]
     },
     "execution_count": 55,
     "metadata": {},
     "output_type": "execute_result"
    }
   ],
   "source": [
    "data5=data5.iloc[0:100,:]\n",
    "data5.head()"
   ]
  },
  {
   "cell_type": "code",
   "execution_count": 56,
   "metadata": {
    "collapsed": false
   },
   "outputs": [
    {
     "ename": "KeyError",
     "evalue": "100",
     "output_type": "error",
     "traceback": [
      "\u001b[0;31m---------------------------------------------------------------------------\u001b[0m",
      "\u001b[0;31mKeyError\u001b[0m                                  Traceback (most recent call last)",
      "\u001b[0;32m<ipython-input-56-9625d526b4eb>\u001b[0m in \u001b[0;36m<module>\u001b[0;34m()\u001b[0m\n\u001b[1;32m      1\u001b[0m \u001b[0;32mfrom\u001b[0m \u001b[0mdatetime\u001b[0m \u001b[0;32mimport\u001b[0m \u001b[0mdatetime\u001b[0m\u001b[0;34m\u001b[0m\u001b[0m\n\u001b[1;32m      2\u001b[0m \u001b[0;32mfor\u001b[0m \u001b[0mi\u001b[0m \u001b[0;32min\u001b[0m \u001b[0mrange\u001b[0m\u001b[0;34m(\u001b[0m\u001b[0mnp\u001b[0m\u001b[0;34m.\u001b[0m\u001b[0msize\u001b[0m\u001b[0;34m(\u001b[0m\u001b[0mdata5\u001b[0m\u001b[0;34m)\u001b[0m\u001b[0;34m)\u001b[0m\u001b[0;34m:\u001b[0m\u001b[0;34m\u001b[0m\u001b[0m\n\u001b[0;32m----> 3\u001b[0;31m     \u001b[0mdatetime\u001b[0m\u001b[0;34m.\u001b[0m\u001b[0mstrptime\u001b[0m\u001b[0;34m(\u001b[0m\u001b[0mdata5\u001b[0m\u001b[0;34m[\u001b[0m\u001b[0;34m'CMPLNT_FR_DT_CMPLNT_FR_TM'\u001b[0m\u001b[0;34m]\u001b[0m\u001b[0;34m[\u001b[0m\u001b[0mi\u001b[0m\u001b[0;34m]\u001b[0m\u001b[0;34m,\u001b[0m \u001b[0;34m\"%m/%d/%Y %H:%M:%S\"\u001b[0m\u001b[0;34m)\u001b[0m\u001b[0;34m\u001b[0m\u001b[0m\n\u001b[0m",
      "\u001b[0;32m/opt/rh/anaconda/root/envs/PUI2016_Python3/lib/python3.5/site-packages/pandas/core/series.py\u001b[0m in \u001b[0;36m__getitem__\u001b[0;34m(self, key)\u001b[0m\n\u001b[1;32m    581\u001b[0m         \u001b[0mkey\u001b[0m \u001b[0;34m=\u001b[0m \u001b[0mcom\u001b[0m\u001b[0;34m.\u001b[0m\u001b[0m_apply_if_callable\u001b[0m\u001b[0;34m(\u001b[0m\u001b[0mkey\u001b[0m\u001b[0;34m,\u001b[0m \u001b[0mself\u001b[0m\u001b[0;34m)\u001b[0m\u001b[0;34m\u001b[0m\u001b[0m\n\u001b[1;32m    582\u001b[0m         \u001b[0;32mtry\u001b[0m\u001b[0;34m:\u001b[0m\u001b[0;34m\u001b[0m\u001b[0m\n\u001b[0;32m--> 583\u001b[0;31m             \u001b[0mresult\u001b[0m \u001b[0;34m=\u001b[0m \u001b[0mself\u001b[0m\u001b[0;34m.\u001b[0m\u001b[0mindex\u001b[0m\u001b[0;34m.\u001b[0m\u001b[0mget_value\u001b[0m\u001b[0;34m(\u001b[0m\u001b[0mself\u001b[0m\u001b[0;34m,\u001b[0m \u001b[0mkey\u001b[0m\u001b[0;34m)\u001b[0m\u001b[0;34m\u001b[0m\u001b[0m\n\u001b[0m\u001b[1;32m    584\u001b[0m \u001b[0;34m\u001b[0m\u001b[0m\n\u001b[1;32m    585\u001b[0m             \u001b[0;32mif\u001b[0m \u001b[0;32mnot\u001b[0m \u001b[0mlib\u001b[0m\u001b[0;34m.\u001b[0m\u001b[0misscalar\u001b[0m\u001b[0;34m(\u001b[0m\u001b[0mresult\u001b[0m\u001b[0;34m)\u001b[0m\u001b[0;34m:\u001b[0m\u001b[0;34m\u001b[0m\u001b[0m\n",
      "\u001b[0;32m/opt/rh/anaconda/root/envs/PUI2016_Python3/lib/python3.5/site-packages/pandas/indexes/base.py\u001b[0m in \u001b[0;36mget_value\u001b[0;34m(self, series, key)\u001b[0m\n\u001b[1;32m   1978\u001b[0m         \u001b[0;32mtry\u001b[0m\u001b[0;34m:\u001b[0m\u001b[0;34m\u001b[0m\u001b[0m\n\u001b[1;32m   1979\u001b[0m             return self._engine.get_value(s, k,\n\u001b[0;32m-> 1980\u001b[0;31m                                           tz=getattr(series.dtype, 'tz', None))\n\u001b[0m\u001b[1;32m   1981\u001b[0m         \u001b[0;32mexcept\u001b[0m \u001b[0mKeyError\u001b[0m \u001b[0;32mas\u001b[0m \u001b[0me1\u001b[0m\u001b[0;34m:\u001b[0m\u001b[0;34m\u001b[0m\u001b[0m\n\u001b[1;32m   1982\u001b[0m             \u001b[0;32mif\u001b[0m \u001b[0mlen\u001b[0m\u001b[0;34m(\u001b[0m\u001b[0mself\u001b[0m\u001b[0;34m)\u001b[0m \u001b[0;34m>\u001b[0m \u001b[0;36m0\u001b[0m \u001b[0;32mand\u001b[0m \u001b[0mself\u001b[0m\u001b[0;34m.\u001b[0m\u001b[0minferred_type\u001b[0m \u001b[0;32min\u001b[0m \u001b[0;34m[\u001b[0m\u001b[0;34m'integer'\u001b[0m\u001b[0;34m,\u001b[0m \u001b[0;34m'boolean'\u001b[0m\u001b[0;34m]\u001b[0m\u001b[0;34m:\u001b[0m\u001b[0;34m\u001b[0m\u001b[0m\n",
      "\u001b[0;32mpandas/index.pyx\u001b[0m in \u001b[0;36mpandas.index.IndexEngine.get_value (pandas/index.c:3332)\u001b[0;34m()\u001b[0m\n",
      "\u001b[0;32mpandas/index.pyx\u001b[0m in \u001b[0;36mpandas.index.IndexEngine.get_value (pandas/index.c:3035)\u001b[0;34m()\u001b[0m\n",
      "\u001b[0;32mpandas/index.pyx\u001b[0m in \u001b[0;36mpandas.index.IndexEngine.get_loc (pandas/index.c:4018)\u001b[0;34m()\u001b[0m\n",
      "\u001b[0;32mpandas/hashtable.pyx\u001b[0m in \u001b[0;36mpandas.hashtable.Int64HashTable.get_item (pandas/hashtable.c:6610)\u001b[0;34m()\u001b[0m\n",
      "\u001b[0;32mpandas/hashtable.pyx\u001b[0m in \u001b[0;36mpandas.hashtable.Int64HashTable.get_item (pandas/hashtable.c:6554)\u001b[0;34m()\u001b[0m\n",
      "\u001b[0;31mKeyError\u001b[0m: 100"
     ]
    }
   ],
   "source": [
    "from datetime import datetime\n",
    "for i in range(np.size(data5)):\n",
    "    datetime.strptime(data5['CMPLNT_FR_DT_CMPLNT_FR_TM'][i], \"%m/%d/%Y %H:%M:%S\")\n"
   ]
  },
  {
   "cell_type": "code",
   "execution_count": 57,
   "metadata": {
    "collapsed": false
   },
   "outputs": [
    {
     "data": {
      "text/plain": [
       "'12/31/2016 20:32:00'"
      ]
     },
     "execution_count": 57,
     "metadata": {},
     "output_type": "execute_result"
    }
   ],
   "source": [
    "data5['CMPLNT_FR_DT_CMPLNT_FR_TM'][99]"
   ]
  },
  {
   "cell_type": "code",
   "execution_count": null,
   "metadata": {
    "collapsed": true
   },
   "outputs": [],
   "source": []
  },
  {
   "cell_type": "code",
   "execution_count": null,
   "metadata": {
    "collapsed": false
   },
   "outputs": [],
   "source": []
  },
  {
   "cell_type": "code",
   "execution_count": null,
   "metadata": {
    "collapsed": true
   },
   "outputs": [],
   "source": []
  }
 ],
 "metadata": {
  "kernelspec": {
   "display_name": "PUI2016_Python3",
   "language": "python",
   "name": "pui2016_python3"
  },
  "language_info": {
   "codemirror_mode": {
    "name": "ipython",
    "version": 3
   },
   "file_extension": ".py",
   "mimetype": "text/x-python",
   "name": "python",
   "nbconvert_exporter": "python",
   "pygments_lexer": "ipython3",
   "version": "3.5.2"
  }
 },
 "nbformat": 4,
 "nbformat_minor": 0
}

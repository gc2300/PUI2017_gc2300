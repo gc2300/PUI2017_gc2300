{
 "cells": [
  {
   "cell_type": "code",
   "execution_count": 27,
   "metadata": {},
   "outputs": [
    {
     "name": "stdout",
     "output_type": "stream",
     "text": [
      "Populating the interactive namespace from numpy and matplotlib\n"
     ]
    },
    {
     "data": {
      "text/plain": [
       "'/Users/andrewchen/PUIDATA'"
      ]
     },
     "execution_count": 27,
     "metadata": {},
     "output_type": "execute_result"
    }
   ],
   "source": [
    "import pylab as pl\n",
    "import pandas as pd\n",
    "import sys\n",
    "import os\n",
    "import numpy as np\n",
    "%pylab inline\n",
    "%matplotlib inline\n",
    "import matplotlib.pyplot as plt\n",
    "plt.style.use('seaborn-darkgrid')\n",
    "\n",
    "os.getenv('PUIDATA')"
   ]
  },
  {
   "cell_type": "code",
   "execution_count": 10,
   "metadata": {
    "collapsed": true
   },
   "outputs": [],
   "source": [
    "import wget"
   ]
  },
  {
   "cell_type": "code",
   "execution_count": 63,
   "metadata": {
    "scrolled": true
   },
   "outputs": [
    {
     "data": {
      "text/plain": [
       "u'201501-citibike-tripdata.zip'"
      ]
     },
     "execution_count": 63,
     "metadata": {},
     "output_type": "execute_result"
    }
   ],
   "source": [
    "wget.download('https://s3.amazonaws.com/tripdata/201501-citibike-tripdata.zip')"
   ]
  },
  {
   "cell_type": "code",
   "execution_count": 69,
   "metadata": {},
   "outputs": [
    {
     "data": {
      "text/plain": [
       "0"
      ]
     },
     "execution_count": 69,
     "metadata": {},
     "output_type": "execute_result"
    }
   ],
   "source": [
    "os.system(\"mv 201501-citibike-tripdata.zip \"+ os.getenv('PUIDATA'))"
   ]
  },
  {
   "cell_type": "code",
   "execution_count": 71,
   "metadata": {},
   "outputs": [],
   "source": [
    "jan = pd.read_csv(os.getenv('PUIDATA')+'/201501-citibike-tripdata.zip')"
   ]
  },
  {
   "cell_type": "code",
   "execution_count": 72,
   "metadata": {},
   "outputs": [
    {
     "data": {
      "text/html": [
       "<div>\n",
       "<style>\n",
       "    .dataframe thead tr:only-child th {\n",
       "        text-align: right;\n",
       "    }\n",
       "\n",
       "    .dataframe thead th {\n",
       "        text-align: left;\n",
       "    }\n",
       "\n",
       "    .dataframe tbody tr th {\n",
       "        vertical-align: top;\n",
       "    }\n",
       "</style>\n",
       "<table border=\"1\" class=\"dataframe\">\n",
       "  <thead>\n",
       "    <tr style=\"text-align: right;\">\n",
       "      <th></th>\n",
       "      <th>tripduration</th>\n",
       "      <th>starttime</th>\n",
       "      <th>stoptime</th>\n",
       "      <th>start station id</th>\n",
       "      <th>start station name</th>\n",
       "      <th>start station latitude</th>\n",
       "      <th>start station longitude</th>\n",
       "      <th>end station id</th>\n",
       "      <th>end station name</th>\n",
       "      <th>end station latitude</th>\n",
       "      <th>end station longitude</th>\n",
       "      <th>bikeid</th>\n",
       "      <th>usertype</th>\n",
       "      <th>birth year</th>\n",
       "      <th>gender</th>\n",
       "    </tr>\n",
       "  </thead>\n",
       "  <tbody>\n",
       "    <tr>\n",
       "      <th>0</th>\n",
       "      <td>1346</td>\n",
       "      <td>1/1/2015 0:01</td>\n",
       "      <td>1/1/2015 0:24</td>\n",
       "      <td>455</td>\n",
       "      <td>1 Ave &amp; E 44 St</td>\n",
       "      <td>40.750020</td>\n",
       "      <td>-73.969053</td>\n",
       "      <td>265</td>\n",
       "      <td>Stanton St &amp; Chrystie St</td>\n",
       "      <td>40.722293</td>\n",
       "      <td>-73.991475</td>\n",
       "      <td>18660</td>\n",
       "      <td>Subscriber</td>\n",
       "      <td>1960.0</td>\n",
       "      <td>2</td>\n",
       "    </tr>\n",
       "    <tr>\n",
       "      <th>1</th>\n",
       "      <td>363</td>\n",
       "      <td>1/1/2015 0:02</td>\n",
       "      <td>1/1/2015 0:08</td>\n",
       "      <td>434</td>\n",
       "      <td>9 Ave &amp; W 18 St</td>\n",
       "      <td>40.743174</td>\n",
       "      <td>-74.003664</td>\n",
       "      <td>482</td>\n",
       "      <td>W 15 St &amp; 7 Ave</td>\n",
       "      <td>40.739355</td>\n",
       "      <td>-73.999318</td>\n",
       "      <td>16085</td>\n",
       "      <td>Subscriber</td>\n",
       "      <td>1963.0</td>\n",
       "      <td>1</td>\n",
       "    </tr>\n",
       "    <tr>\n",
       "      <th>2</th>\n",
       "      <td>346</td>\n",
       "      <td>1/1/2015 0:04</td>\n",
       "      <td>1/1/2015 0:10</td>\n",
       "      <td>491</td>\n",
       "      <td>E 24 St &amp; Park Ave S</td>\n",
       "      <td>40.740964</td>\n",
       "      <td>-73.986022</td>\n",
       "      <td>505</td>\n",
       "      <td>6 Ave &amp; W 33 St</td>\n",
       "      <td>40.749013</td>\n",
       "      <td>-73.988484</td>\n",
       "      <td>20845</td>\n",
       "      <td>Subscriber</td>\n",
       "      <td>1974.0</td>\n",
       "      <td>1</td>\n",
       "    </tr>\n",
       "    <tr>\n",
       "      <th>3</th>\n",
       "      <td>182</td>\n",
       "      <td>1/1/2015 0:04</td>\n",
       "      <td>1/1/2015 0:07</td>\n",
       "      <td>384</td>\n",
       "      <td>Fulton St &amp; Waverly Ave</td>\n",
       "      <td>40.683178</td>\n",
       "      <td>-73.965964</td>\n",
       "      <td>399</td>\n",
       "      <td>Lafayette Ave &amp; St James Pl</td>\n",
       "      <td>40.688515</td>\n",
       "      <td>-73.964763</td>\n",
       "      <td>19610</td>\n",
       "      <td>Subscriber</td>\n",
       "      <td>1969.0</td>\n",
       "      <td>1</td>\n",
       "    </tr>\n",
       "    <tr>\n",
       "      <th>4</th>\n",
       "      <td>969</td>\n",
       "      <td>1/1/2015 0:05</td>\n",
       "      <td>1/1/2015 0:21</td>\n",
       "      <td>474</td>\n",
       "      <td>5 Ave &amp; E 29 St</td>\n",
       "      <td>40.745168</td>\n",
       "      <td>-73.986831</td>\n",
       "      <td>432</td>\n",
       "      <td>E 7 St &amp; Avenue A</td>\n",
       "      <td>40.726218</td>\n",
       "      <td>-73.983799</td>\n",
       "      <td>20197</td>\n",
       "      <td>Subscriber</td>\n",
       "      <td>1977.0</td>\n",
       "      <td>1</td>\n",
       "    </tr>\n",
       "  </tbody>\n",
       "</table>\n",
       "</div>"
      ],
      "text/plain": [
       "   tripduration      starttime       stoptime  start station id  \\\n",
       "0          1346  1/1/2015 0:01  1/1/2015 0:24               455   \n",
       "1           363  1/1/2015 0:02  1/1/2015 0:08               434   \n",
       "2           346  1/1/2015 0:04  1/1/2015 0:10               491   \n",
       "3           182  1/1/2015 0:04  1/1/2015 0:07               384   \n",
       "4           969  1/1/2015 0:05  1/1/2015 0:21               474   \n",
       "\n",
       "        start station name  start station latitude  start station longitude  \\\n",
       "0          1 Ave & E 44 St               40.750020               -73.969053   \n",
       "1          9 Ave & W 18 St               40.743174               -74.003664   \n",
       "2     E 24 St & Park Ave S               40.740964               -73.986022   \n",
       "3  Fulton St & Waverly Ave               40.683178               -73.965964   \n",
       "4          5 Ave & E 29 St               40.745168               -73.986831   \n",
       "\n",
       "   end station id             end station name  end station latitude  \\\n",
       "0             265     Stanton St & Chrystie St             40.722293   \n",
       "1             482              W 15 St & 7 Ave             40.739355   \n",
       "2             505              6 Ave & W 33 St             40.749013   \n",
       "3             399  Lafayette Ave & St James Pl             40.688515   \n",
       "4             432            E 7 St & Avenue A             40.726218   \n",
       "\n",
       "   end station longitude  bikeid    usertype  birth year  gender  \n",
       "0             -73.991475   18660  Subscriber      1960.0       2  \n",
       "1             -73.999318   16085  Subscriber      1963.0       1  \n",
       "2             -73.988484   20845  Subscriber      1974.0       1  \n",
       "3             -73.964763   19610  Subscriber      1969.0       1  \n",
       "4             -73.983799   20197  Subscriber      1977.0       1  "
      ]
     },
     "execution_count": 72,
     "metadata": {},
     "output_type": "execute_result"
    }
   ],
   "source": [
    "jan.head()"
   ]
  },
  {
   "cell_type": "markdown",
   "metadata": {},
   "source": [
    "# IDEA: Women's bike riding duration are different with men's. The significance level is 0.05\n"
   ]
  },
  {
   "cell_type": "markdown",
   "metadata": {},
   "source": [
    "Null hypothesis: Women's and men's bike riding duration follow the same distribution.\n",
    "\n",
    "Alternative hypothesis: Women's and men's bike riding duration follow different distributions.\n"
   ]
  },
  {
   "cell_type": "markdown",
   "metadata": {},
   "source": [
    "# Data cleanning"
   ]
  },
  {
   "cell_type": "code",
   "execution_count": 41,
   "metadata": {},
   "outputs": [
    {
     "data": {
      "text/plain": [
       "285552"
      ]
     },
     "execution_count": 41,
     "metadata": {},
     "output_type": "execute_result"
    }
   ],
   "source": [
    "len(jan)"
   ]
  },
  {
   "cell_type": "code",
   "execution_count": 40,
   "metadata": {},
   "outputs": [
    {
     "data": {
      "text/plain": [
       "array([ 2792,  2792,  2793,  2793,  2794,  2795,  2795,  2796,  2797,\n",
       "        2797,  2798,  2799,  2800,  2800,  2800,  2801,  2801,  2802,\n",
       "        2802,  2804,  2805,  2806,  2807,  2807,  2807,  2808,  2808,\n",
       "        2809,  2809,  2811,  2812,  2813,  2814,  2814,  2815,  2817,\n",
       "        2818,  2819,  2820,  2822,  2825,  2825,  2826,  2827,  2827,\n",
       "        2827,  2829,  2830,  2836,  2836,  2837,  2839,  2839,  2840,\n",
       "        2841,  2842,  2843,  2849,  2850,  2852,  2852,  2853,  2853,\n",
       "        2854,  2857,  2857,  2861,  2865,  2865,  2866,  2868,  2869,\n",
       "        2869,  2870,  2870,  2871,  2871,  2872,  2873,  2875,  2875,\n",
       "        2876,  2878,  2879,  2881,  2884,  2885,  2885,  2887,  2890,\n",
       "        2891,  2894,  2895,  2896,  2897,  2900,  2900,  2902,  2902,\n",
       "        2902,  2902,  2904,  2905,  2909,  2909,  2910,  2911,  2911,\n",
       "        2913,  2913,  2913,  2914,  2915,  2915,  2916,  2916,  2916,\n",
       "        2918,  2920,  2920,  2924,  2925,  2926,  2926,  2927,  2927,\n",
       "        2930,  2931,  2931,  2932,  2932,  2933,  2936,  2940,  2941,\n",
       "        2942,  2943,  2943,  2944,  2948,  2950,  2953,  2954,  2959,\n",
       "        2959,  2961,  2961,  2962,  2963,  2966,  2966,  2966,  2968,\n",
       "        2971,  2972,  2972,  2972,  2974,  2975,  2980,  2982,  2987,\n",
       "        2988,  2991,  2993,  2995,  2997,  2998,  2998,  2999,  3001,\n",
       "        3004,  3008,  3009,  3010,  3012,  3013,  3013,  3016,  3020,\n",
       "        3020,  3022,  3025,  3026,  3027,  3030,  3030,  3036,  3044,\n",
       "        3046,  3047,  3048,  3050,  3053,  3053,  3054,  3054,  3054,\n",
       "        3056,  3058,  3058,  3058,  3062,  3063,  3064,  3065,  3065,\n",
       "        3068,  3069,  3069,  3069,  3072,  3074,  3080,  3082,  3085,\n",
       "        3085,  3092,  3102,  3102,  3104,  3106,  3107,  3110,  3111,\n",
       "        3115,  3116,  3119,  3120,  3121,  3122,  3124,  3133,  3134,\n",
       "        3135,  3139,  3143,  3144,  3148,  3152,  3155,  3155,  3157,\n",
       "        3159,  3161,  3163,  3163,  3167,  3167,  3167,  3169,  3171,\n",
       "        3172,  3175,  3176,  3177,  3179,  3188,  3188,  3189,  3190,\n",
       "        3196,  3196,  3199,  3200,  3201,  3202,  3202,  3202,  3213,\n",
       "        3215,  3217,  3236,  3237,  3237,  3241,  3244,  3245,  3255,\n",
       "        3255,  3259,  3259,  3261,  3268,  3269,  3271,  3274,  3276,\n",
       "        3281,  3284,  3285,  3287,  3290,  3299,  3306,  3308,  3308,\n",
       "        3309,  3313,  3315,  3316,  3317,  3317,  3317,  3321,  3324,\n",
       "        3325,  3328,  3330,  3331,  3334,  3335,  3335,  3338,  3341,\n",
       "        3343,  3345,  3345,  3346,  3352,  3353,  3355,  3358,  3359,\n",
       "        3365,  3372,  3374,  3374,  3375,  3375,  3376,  3385,  3387,\n",
       "        3388,  3388,  3393,  3397,  3397,  3398,  3401,  3407,  3411,\n",
       "        3420,  3424,  3426,  3432,  3434,  3438,  3449,  3453,  3457,\n",
       "        3457,  3460,  3460,  3466,  3470,  3475,  3481,  3486,  3489,\n",
       "        3492,  3495,  3495,  3498,  3498,  3508,  3517,  3521,  3524,\n",
       "        3524,  3527,  3528,  3529,  3534,  3535,  3535,  3537,  3551,\n",
       "        3558,  3559,  3567,  3588,  3591,  3591,  3594,  3600,  3600,\n",
       "        3600,  3600,  3604,  3604,  3605,  3605,  3606,  3607,  3609,\n",
       "        3613,  3616,  3634,  3637,  3639,  3648,  3656,  3658,  3662,\n",
       "        3668,  3668,  3678,  3690,  3695,  3697,  3709,  3712,  3722,\n",
       "        3723,  3728,  3738,  3744,  3744,  3745,  3748,  3750,  3752,\n",
       "        3758,  3758,  3763,  3763,  3764,  3766,  3768,  3774,  3774,\n",
       "        3780,  3788,  3791,  3796,  3797,  3832,  3847,  3852,  3855,\n",
       "        3857,  3860,  3865,  3882,  3889,  3895,  3898,  3912,  3922,\n",
       "        3945,  3950,  3952,  3963,  3964,  3988,  3989,  4011,  4016,\n",
       "        4025,  4025,  4031,  4039,  4049,  4052,  4053,  4082,  4087,\n",
       "        4088,  4088,  4092,  4098,  4117,  4127,  4139,  4142,  4146,\n",
       "        4159,  4163,  4166,  4177,  4178,  4182,  4189,  4198,  4239,\n",
       "        4240,  4242,  4247,  4271,  4282,  4299,  4301,  4306,  4306,\n",
       "        4340,  4340,  4343,  4344,  4354,  4361,  4366,  4370,  4372,\n",
       "        4378,  4384,  4386,  4404,  4407,  4418,  4425,  4426,  4485,\n",
       "        4492,  4495,  4496,  4503,  4509,  4520,  4521,  4537,  4543,\n",
       "        4551,  4572,  4581,  4581,  4592,  4596,  4602,  4603,  4605,\n",
       "        4610,  4611,  4625,  4630,  4633,  4643,  4656,  4659,  4660,\n",
       "        4666,  4669,  4681,  4682,  4700,  4709,  4711,  4738,  4753,\n",
       "        4760,  4765,  4782,  4790,  4793,  4812,  4818,  4834,  4835,\n",
       "        4836,  4841,  4847,  4878,  4887,  4901,  4909,  4909,  4923,\n",
       "        4943,  4951,  4967,  4972,  5009,  5021,  5028,  5042,  5043,\n",
       "        5071,  5092,  5120,  5125,  5127,  5134,  5138,  5145,  5155,\n",
       "        5162,  5167,  5169,  5185,  5202,  5215,  5254,  5258,  5306,\n",
       "        5308,  5317,  5330,  5334,  5366,  5381,  5392,  5398,  5401,\n",
       "        5408,  5411,  5426,  5437,  5453,  5464,  5474,  5475,  5476,\n",
       "        5492,  5508,  5513,  5516,  5525,  5558,  5569,  5598,  5603,\n",
       "        5606,  5621,  5628,  5633,  5643,  5647,  5664,  5676,  5680,\n",
       "        5704,  5724,  5725,  5729,  5741,  5751,  5792,  5815,  5830,\n",
       "        5839,  5841,  5849,  5850,  5869,  5870,  5881,  5885,  5896,\n",
       "        5898,  5941,  5941,  5950,  5961,  5969,  5986,  5990,  6004,\n",
       "        6081,  6126,  6140,  6143,  6173,  6175,  6179,  6188,  6197,\n",
       "        6201,  6222,  6262,  6266,  6294,  6295,  6297,  6335,  6342,\n",
       "        6346,  6358,  6374,  6387,  6396,  6402,  6418,  6418,  6456,\n",
       "        6470,  6483,  6521,  6531,  6532,  6543,  6622,  6639,  6648,\n",
       "        6699,  6700,  6701,  6710,  6747,  6754,  6759,  6788,  6797,\n",
       "        6882,  6882,  6894,  6915,  6957,  6960,  6962,  6966,  6971,\n",
       "        6973,  6977,  6984,  7014,  7019,  7053,  7095,  7102,  7104,\n",
       "        7204,  7223,  7232,  7248,  7255,  7304,  7376,  7391,  7444,\n",
       "        7465,  7500,  7551,  7555,  7586,  7618,  7697,  7706,  7748,\n",
       "        7767,  7775,  7803,  7808,  7828,  7833,  7876,  7950,  7963,\n",
       "        7990,  8003,  8006,  8015,  8027,  8028,  8054,  8090,  8149,\n",
       "        8202,  8280,  8284,  8319,  8342,  8426,  8455,  8461,  8462,\n",
       "        8469,  8482,  8492,  8504,  8518,  8523,  8531,  8566,  8591,\n",
       "        8661,  8709,  8713,  8738,  8764,  8810,  8878,  8883,  8898,\n",
       "        8949,  9014,  9046,  9080,  9166,  9188,  9209,  9223,  9279,\n",
       "        9413,  9462,  9510,  9526,  9568,  9618,  9634,  9651,  9660,\n",
       "        9669,  9675,  9686,  9717,  9719,  9730,  9754,  9788,  9895,\n",
       "        9967,  9976,  9995, 10053, 10066, 10122, 10139, 10165, 10198,\n",
       "       10210, 10348, 10376, 10380, 10417, 10461, 10557, 10596, 10637,\n",
       "       10692, 10698, 10790, 10798, 10835, 11075, 11256, 11442, 11563,\n",
       "       11648, 11750, 11758, 11887, 11944, 12019, 12053, 12057, 12101,\n",
       "       12135, 12136, 12136, 12161, 12237, 12284, 12357, 12441, 12633,\n",
       "       12664, 12764, 12814, 12969, 13014, 13159, 13272, 13332, 13339,\n",
       "       13445, 13546, 13657, 13718, 13743, 13904, 14087, 14096, 14159,\n",
       "       14231, 14407, 14604, 14627, 14691, 14709, 14891, 15088, 15402,\n",
       "       15446, 15616, 15701, 15784, 15869, 16220, 16686, 16780, 17057,\n",
       "       17377, 17418, 17532, 17533, 17999, 18093, 18408, 18449, 18919,\n",
       "       18925, 19005, 19034, 19245, 19479, 19594, 20099, 20103, 20110,\n",
       "       20256, 20286, 20511, 21108, 21518, 22176, 22451, 22627, 23016,\n",
       "       23463, 23656, 23674, 24012, 24131, 24199, 24246, 24287, 25095,\n",
       "       25246, 25319, 25804, 26091, 26785, 26819, 26820, 27091, 27233,\n",
       "       27398, 27577, 27595, 28024, 28113, 28208, 28256, 28399, 29256,\n",
       "       29815, 29887, 30425, 31395, 31778, 32275, 32278, 32534, 32616,\n",
       "       32831, 33362, 33464, 33766, 33966, 34147, 34363, 34743, 34818,\n",
       "       34903, 34974, 35005, 35083, 35648, 35906, 36249, 36293, 36587,\n",
       "       36647, 36654, 36858, 36929, 38094, 39063, 39098, 39113, 39305,\n",
       "       39318, 39350, 39626, 40225, 40557, 40604, 40723, 40785, 40922,\n",
       "       41111, 41390, 41571, 41783, 41801, 42101, 42798, 42878, 42896, 43023])"
      ]
     },
     "execution_count": 40,
     "metadata": {},
     "output_type": "execute_result"
    }
   ],
   "source": [
    "sort(jan[jan.gender==1].tripduration)[-1000:]"
   ]
  },
  {
   "cell_type": "code",
   "execution_count": 45,
   "metadata": {
    "collapsed": true
   },
   "outputs": [],
   "source": [
    "bins = np.arange(0, 3000, 100)\n",
    "bins=numpy.append(bins,43023)"
   ]
  },
  {
   "cell_type": "code",
   "execution_count": 47,
   "metadata": {
    "scrolled": true
   },
   "outputs": [
    {
     "data": {
      "text/plain": [
       "<matplotlib.text.Text at 0x10b59b8d0>"
      ]
     },
     "execution_count": 47,
     "metadata": {},
     "output_type": "execute_result"
    },
    {
     "data": {
      "image/png": "[encoded data removed]",
      "text/plain": [
       "<matplotlib.figure.Figure at 0x1069cdc50>"
      ]
     },
     "metadata": {},
     "output_type": "display_data"
    }
   ],
   "source": [
    "axd = jan[jan.gender==1].tripduration.groupby(pd.cut(jan[jan.gender==1].tripduration, bins)).agg([count_nonzero]).plot(kind='bar', \n",
    "                                                                legend=False)\n",
    "axd.set_title(\"Men's Trip Durations in Jan, 2015\")"
   ]
  },
  {
   "cell_type": "code",
   "execution_count": 48,
   "metadata": {},
   "outputs": [
    {
     "data": {
      "text/plain": [
       "array([ 1992,  1992,  1992,  1994,  1994,  1994,  1994,  1994,  1995,\n",
       "        1996,  1996,  1997,  1999,  1999,  2000,  2001,  2001,  2001,\n",
       "        2002,  2002,  2002,  2003,  2003,  2004,  2004,  2004,  2004,\n",
       "        2004,  2004,  2004,  2004,  2007,  2007,  2008,  2009,  2010,\n",
       "        2010,  2012,  2012,  2012,  2013,  2013,  2013,  2013,  2014,\n",
       "        2015,  2015,  2015,  2016,  2016,  2016,  2017,  2018,  2018,\n",
       "        2018,  2019,  2020,  2021,  2021,  2023,  2023,  2023,  2023,\n",
       "        2023,  2023,  2023,  2024,  2024,  2024,  2025,  2025,  2026,\n",
       "        2026,  2027,  2028,  2029,  2029,  2030,  2030,  2030,  2030,\n",
       "        2030,  2031,  2032,  2032,  2033,  2033,  2033,  2033,  2034,\n",
       "        2034,  2034,  2035,  2035,  2036,  2037,  2038,  2039,  2039,\n",
       "        2040,  2040,  2041,  2041,  2041,  2042,  2042,  2045,  2045,\n",
       "        2045,  2046,  2046,  2047,  2047,  2047,  2050,  2050,  2050,\n",
       "        2050,  2051,  2051,  2051,  2052,  2052,  2055,  2056,  2056,\n",
       "        2057,  2058,  2059,  2059,  2060,  2060,  2061,  2061,  2061,\n",
       "        2063,  2064,  2064,  2065,  2065,  2066,  2067,  2067,  2067,\n",
       "        2068,  2069,  2070,  2070,  2070,  2071,  2073,  2073,  2073,\n",
       "        2073,  2073,  2074,  2075,  2076,  2076,  2076,  2077,  2077,\n",
       "        2078,  2078,  2079,  2080,  2080,  2081,  2081,  2081,  2082,\n",
       "        2082,  2083,  2084,  2085,  2086,  2086,  2086,  2089,  2091,\n",
       "        2093,  2094,  2095,  2095,  2095,  2096,  2096,  2096,  2097,\n",
       "        2097,  2097,  2097,  2098,  2098,  2098,  2099,  2100,  2101,\n",
       "        2101,  2102,  2103,  2103,  2103,  2104,  2104,  2104,  2105,\n",
       "        2105,  2105,  2105,  2106,  2106,  2107,  2107,  2108,  2110,\n",
       "        2110,  2111,  2111,  2112,  2113,  2113,  2113,  2114,  2114,\n",
       "        2116,  2117,  2117,  2117,  2117,  2118,  2118,  2119,  2121,\n",
       "        2121,  2122,  2122,  2123,  2126,  2127,  2127,  2129,  2130,\n",
       "        2132,  2132,  2133,  2135,  2138,  2138,  2138,  2140,  2143,\n",
       "        2143,  2144,  2145,  2145,  2146,  2146,  2146,  2147,  2148,\n",
       "        2148,  2149,  2151,  2151,  2152,  2152,  2153,  2153,  2153,\n",
       "        2154,  2154,  2154,  2155,  2155,  2156,  2156,  2157,  2159,\n",
       "        2160,  2160,  2161,  2161,  2162,  2162,  2163,  2163,  2165,\n",
       "        2166,  2166,  2166,  2166,  2167,  2167,  2168,  2168,  2169,\n",
       "        2170,  2170,  2170,  2171,  2173,  2173,  2173,  2174,  2174,\n",
       "        2174,  2175,  2176,  2181,  2181,  2185,  2185,  2185,  2185,\n",
       "        2185,  2186,  2186,  2188,  2189,  2191,  2195,  2196,  2196,\n",
       "        2197,  2197,  2199,  2200,  2200,  2200,  2200,  2200,  2204,\n",
       "        2204,  2205,  2205,  2205,  2206,  2207,  2208,  2209,  2209,\n",
       "        2209,  2209,  2210,  2210,  2210,  2211,  2211,  2212,  2212,\n",
       "        2212,  2213,  2214,  2214,  2215,  2215,  2215,  2217,  2219,\n",
       "        2220,  2221,  2221,  2223,  2223,  2226,  2227,  2228,  2231,\n",
       "        2231,  2232,  2233,  2233,  2234,  2235,  2236,  2237,  2241,\n",
       "        2241,  2241,  2242,  2242,  2242,  2243,  2244,  2244,  2245,\n",
       "        2245,  2247,  2248,  2249,  2250,  2250,  2250,  2251,  2251,\n",
       "        2252,  2254,  2255,  2256,  2256,  2257,  2259,  2265,  2266,\n",
       "        2266,  2271,  2272,  2272,  2276,  2278,  2281,  2282,  2282,\n",
       "        2282,  2282,  2286,  2287,  2288,  2289,  2289,  2290,  2291,\n",
       "        2292,  2293,  2293,  2293,  2294,  2294,  2294,  2296,  2297,\n",
       "        2297,  2298,  2300,  2300,  2300,  2303,  2304,  2306,  2306,\n",
       "        2307,  2310,  2312,  2312,  2314,  2317,  2318,  2318,  2319,\n",
       "        2320,  2321,  2323,  2323,  2324,  2325,  2326,  2326,  2326,\n",
       "        2327,  2327,  2327,  2328,  2328,  2328,  2329,  2331,  2331,\n",
       "        2333,  2336,  2337,  2338,  2338,  2339,  2340,  2340,  2341,\n",
       "        2342,  2343,  2343,  2345,  2345,  2346,  2349,  2350,  2351,\n",
       "        2353,  2356,  2358,  2359,  2360,  2362,  2364,  2365,  2366,\n",
       "        2367,  2369,  2370,  2371,  2373,  2374,  2374,  2375,  2378,\n",
       "        2379,  2382,  2384,  2386,  2387,  2387,  2387,  2388,  2389,\n",
       "        2389,  2389,  2392,  2392,  2393,  2393,  2393,  2393,  2396,\n",
       "        2396,  2397,  2401,  2401,  2402,  2402,  2402,  2402,  2404,\n",
       "        2405,  2405,  2406,  2407,  2409,  2412,  2412,  2413,  2415,\n",
       "        2417,  2418,  2419,  2420,  2420,  2420,  2422,  2423,  2424,\n",
       "        2428,  2430,  2431,  2432,  2432,  2436,  2441,  2442,  2449,\n",
       "        2450,  2450,  2451,  2453,  2453,  2455,  2456,  2456,  2456,\n",
       "        2458,  2461,  2461,  2462,  2462,  2464,  2471,  2473,  2476,\n",
       "        2478,  2479,  2481,  2481,  2483,  2485,  2486,  2487,  2490,\n",
       "        2491,  2492,  2492,  2496,  2497,  2497,  2498,  2499,  2499,\n",
       "        2500,  2501,  2505,  2505,  2506,  2507,  2508,  2508,  2509,\n",
       "        2514,  2514,  2516,  2518,  2519,  2520,  2522,  2522,  2522,\n",
       "        2522,  2523,  2526,  2529,  2531,  2535,  2538,  2540,  2540,\n",
       "        2542,  2545,  2552,  2554,  2554,  2555,  2560,  2560,  2560,\n",
       "        2561,  2562,  2563,  2564,  2573,  2574,  2576,  2576,  2579,\n",
       "        2581,  2581,  2583,  2584,  2585,  2587,  2588,  2589,  2590,\n",
       "        2594,  2598,  2599,  2599,  2599,  2601,  2602,  2604,  2607,\n",
       "        2609,  2614,  2617,  2619,  2621,  2625,  2625,  2625,  2630,\n",
       "        2631,  2640,  2640,  2641,  2646,  2646,  2650,  2651,  2652,\n",
       "        2652,  2654,  2655,  2655,  2657,  2664,  2665,  2667,  2670,\n",
       "        2676,  2676,  2678,  2682,  2696,  2696,  2699,  2701,  2704,\n",
       "        2705,  2709,  2710,  2711,  2712,  2716,  2717,  2719,  2722,\n",
       "        2729,  2734,  2737,  2739,  2739,  2744,  2744,  2748,  2749,\n",
       "        2751,  2752,  2753,  2755,  2756,  2756,  2759,  2763,  2772,\n",
       "        2775,  2780,  2782,  2791,  2792,  2800,  2802,  2802,  2810,\n",
       "        2815,  2822,  2822,  2822,  2823,  2823,  2826,  2835,  2841,\n",
       "        2851,  2854,  2860,  2863,  2870,  2874,  2881,  2883,  2889,\n",
       "        2907,  2911,  2919,  2930,  2944,  2947,  2948,  2949,  2953,\n",
       "        2953,  2960,  2962,  2971,  2972,  2978,  2980,  2984,  2987,\n",
       "        2988,  2993,  2994,  2994,  2995,  3002,  3026,  3034,  3040,\n",
       "        3045,  3045,  3046,  3051,  3052,  3054,  3058,  3082,  3084,\n",
       "        3086,  3087,  3098,  3101,  3124,  3130,  3155,  3170,  3184,\n",
       "        3199,  3203,  3211,  3228,  3234,  3242,  3244,  3252,  3254,\n",
       "        3297,  3299,  3303,  3304,  3308,  3310,  3321,  3324,  3327,\n",
       "        3344,  3355,  3380,  3391,  3412,  3415,  3422,  3428,  3429,\n",
       "        3434,  3450,  3456,  3458,  3467,  3480,  3494,  3513,  3532,\n",
       "        3537,  3586,  3599,  3602,  3603,  3622,  3625,  3641,  3648,\n",
       "        3655,  3681,  3688,  3689,  3695,  3706,  3719,  3720,  3729,\n",
       "        3742,  3745,  3761,  3766,  3769,  3810,  3831,  3846,  3850,\n",
       "        3857,  3865,  3906,  3941,  3961,  3971,  4058,  4170,  4185,\n",
       "        4201,  4210,  4257,  4266,  4337,  4366,  4370,  4415,  4462,\n",
       "        4554,  4572,  4621,  4637,  4639,  4717,  4728,  4730,  4754,\n",
       "        4767,  4824,  4855,  4858,  4891,  4902,  5002,  5012,  5066,\n",
       "        5073,  5165,  5257,  5334,  5378,  5441,  5446,  5493,  5607,\n",
       "        5629,  5669,  5691,  5767,  5816,  5820,  5854,  5867,  5953,\n",
       "        5986,  6295,  6359,  6375,  6431,  6448,  6491,  6542,  6547,\n",
       "        6774,  6831,  6886,  7039,  7147,  7231,  7307,  7342,  7390,\n",
       "        7507,  7565,  7629,  7631,  7675,  7749,  7909,  8103,  8312,\n",
       "        8448,  8459,  8525,  8597,  8714,  8822,  8898,  9372,  9534,\n",
       "        9629,  9789,  9814, 10529, 10612, 10755, 10831, 10945, 11003,\n",
       "       11260, 11292, 11413, 11440, 11909, 12128, 12768, 12857, 12955,\n",
       "       12961, 13409, 14448, 14929, 16162, 16395, 17029, 17110, 17950,\n",
       "       19414, 19425, 19722, 19857, 20249, 20813, 21136, 21189, 23453,\n",
       "       24489, 24776, 25093, 26643, 28112, 28206, 29187, 29459, 29963,\n",
       "       30905, 31330, 31444, 33677, 33729, 34613, 35457, 36521, 40443, 41961])"
      ]
     },
     "execution_count": 48,
     "metadata": {},
     "output_type": "execute_result"
    }
   ],
   "source": [
    "sort(jan[jan.gender==2].tripduration)[-1000:]"
   ]
  },
  {
   "cell_type": "code",
   "execution_count": 49,
   "metadata": {
    "collapsed": true
   },
   "outputs": [],
   "source": [
    "bins = np.arange(0, 3000, 100)\n",
    "bins=numpy.append(bins,41961)"
   ]
  },
  {
   "cell_type": "code",
   "execution_count": 50,
   "metadata": {},
   "outputs": [
    {
     "data": {
      "text/plain": [
       "<matplotlib.text.Text at 0x10c7bbb10>"
      ]
     },
     "execution_count": 50,
     "metadata": {},
     "output_type": "execute_result"
    },
    {
     "data": {
      "image/png": "[encoded data removed]",
      "text/plain": [
       "<matplotlib.figure.Figure at 0x10a0a7590>"
      ]
     },
     "metadata": {},
     "output_type": "display_data"
    }
   ],
   "source": [
    "axd = jan[jan.gender==2].tripduration.groupby(pd.cut(jan[jan.gender==2].tripduration, bins)).agg([count_nonzero]).plot(kind='bar', \n",
    "                                                                legend=False)\n",
    "axd.set_title(\"Women's Trip Durations in Jan, 2015\")"
   ]
  },
  {
   "cell_type": "markdown",
   "metadata": {},
   "source": [
    "# Remove the outliers which are timedurations that is larger than 3000."
   ]
  },
  {
   "cell_type": "code",
   "execution_count": 54,
   "metadata": {},
   "outputs": [],
   "source": [
    "jan = jan[jan.tripduration<=3000]"
   ]
  },
  {
   "cell_type": "code",
   "execution_count": 55,
   "metadata": {},
   "outputs": [
    {
     "name": "stdout",
     "output_type": "stream",
     "text": [
      "Men's mean bike riding duration in January is 592.113336917.\n"
     ]
    }
   ],
   "source": [
    "print(\"Men's mean bike riding duration in January is {}.\".format(jan[jan.gender==1].tripduration.mean()))"
   ]
  },
  {
   "cell_type": "code",
   "execution_count": 59,
   "metadata": {},
   "outputs": [
    {
     "name": "stdout",
     "output_type": "stream",
     "text": [
      "Women's mean bike riding duration in January is 657.966854983.\n"
     ]
    }
   ],
   "source": [
    "print(\"Women's mean bike riding duration in January is {}.\".format(jan[jan.gender==2].tripduration.mean()))"
   ]
  },
  {
   "cell_type": "markdown",
   "metadata": {},
   "source": [
    "# Conduct a Mann Whitney U test"
   ]
  },
  {
   "cell_type": "markdown",
   "metadata": {},
   "source": [
    "The null hypothesis of Mann Whitney U test is that two independent samples were selected from population having the same distribution."
   ]
  },
  {
   "cell_type": "code",
   "execution_count": 61,
   "metadata": {
    "collapsed": true
   },
   "outputs": [],
   "source": [
    "import scipy.stats as st"
   ]
  },
  {
   "cell_type": "code",
   "execution_count": 62,
   "metadata": {},
   "outputs": [
    {
     "data": {
      "text/plain": [
       "MannwhitneyuResult(statistic=-433265838094.5, pvalue=0.0)"
      ]
     },
     "execution_count": 62,
     "metadata": {},
     "output_type": "execute_result"
    }
   ],
   "source": [
    "st.mannwhitneyu(jan[jan.gender==1],jan[jan.gender==2])"
   ]
  },
  {
   "cell_type": "markdown",
   "metadata": {},
   "source": [
    "Since p-value is less than 0.05, the null hypothesis is rejected. Thus, women's and men's bike riding duration follow different distributions."
   ]
  },
  {
   "cell_type": "code",
   "execution_count": null,
   "metadata": {
    "collapsed": true
   },
   "outputs": [],
   "source": []
  }
 ],
 "metadata": {
  "kernelspec": {
   "display_name": "Python 3",
   "language": "python",
   "name": "python3"
  },
  "language_info": {
   "codemirror_mode": {
    "name": "ipython",
    "version": 2
   },
   "file_extension": ".py",
   "mimetype": "text/x-python",
   "name": "python",
   "nbconvert_exporter": "python",
   "pygments_lexer": "ipython2",
   "version": "2.7.13"
  }
 },
 "nbformat": 4,
 "nbformat_minor": 2
}
